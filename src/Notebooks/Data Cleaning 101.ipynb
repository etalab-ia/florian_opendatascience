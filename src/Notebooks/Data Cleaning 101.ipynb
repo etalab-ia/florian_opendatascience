{
 "cells": [
  {
   "cell_type": "markdown",
   "metadata": {},
   "source": [
    "### Bunch of imports, will see later"
   ]
  },
  {
   "cell_type": "code",
   "execution_count": 1,
   "metadata": {},
   "outputs": [
    {
     "data": {
      "text/html": [
       "        <script type=\"text/javascript\">\n",
       "        window.PlotlyConfig = {MathJaxConfig: 'local'};\n",
       "        if (window.MathJax) {MathJax.Hub.Config({SVG: {font: \"STIX-Web\"}});}\n",
       "        if (typeof require !== 'undefined') {\n",
       "        require.undef(\"plotly\");\n",
       "        requirejs.config({\n",
       "            paths: {\n",
       "                'plotly': ['https://cdn.plot.ly/plotly-latest.min']\n",
       "            }\n",
       "        });\n",
       "        require(['plotly'], function(Plotly) {\n",
       "            window._Plotly = Plotly;\n",
       "        });\n",
       "        }\n",
       "        </script>\n",
       "        "
      ]
     },
     "metadata": {},
     "output_type": "display_data"
    }
   ],
   "source": [
    "import numpy as np\n",
    "import pandas as pd\n",
    "import matplotlib.pyplot as plt\n",
    "import random\n",
    "#Sklearn\n",
    "from sklearn.decomposition import NMF, LatentDirichletAllocation, TruncatedSVD\n",
    "from sklearn.feature_extraction.text import CountVectorizer\n",
    "from sklearn.manifold import TSNE\n",
    "\n",
    "#other\n",
    "import concurrent.futures\n",
    "import time\n",
    "import pyLDAvis.sklearn\n",
    "from pylab import bone, pcolor, colorbar, plot, show, rcParams, savefig\n",
    "import warnings\n",
    "warnings.filterwarnings('ignore')\n",
    "\n",
    "\n",
    "%matplotlib inline\n",
    "\n",
    "# Plotly \n",
    "from plotly import tools\n",
    "import chart_studio.plotly as py\n",
    "from plotly.offline import init_notebook_mode, iplot\n",
    "init_notebook_mode(connected=True)\n",
    "import plotly.graph_objs as go\n",
    "import plotly.figure_factory as ff\n",
    "\n",
    "#spaCy\n",
    "import spacy\n",
    "nlp = spacy.load(\"fr_core_news_lg\")\n",
    "from spacy.lang.fr.stop_words import STOP_WORDS\n",
    "from spacy.lang.fr import French\n",
    "import string\n",
    "punctuations = string.punctuation\n",
    "stopwords = list(STOP_WORDS)"
   ]
  },
  {
   "cell_type": "code",
   "execution_count": 6,
   "metadata": {},
   "outputs": [],
   "source": [
    "#df=pd.read_csv('../../data/Cataloguev1.csv', sep=';',error_bad_lines=False, encoding='latin-1') #le fichier original\n",
    "df2=pd.read_csv('../../data/Catalogue.csv', sep=';',error_bad_lines=False, encoding='latin-1') #le fichier original"
   ]
  },
  {
   "cell_type": "code",
   "execution_count": 17,
   "metadata": {},
   "outputs": [],
   "source": [
    "id_table=list(df['id'])"
   ]
  },
  {
   "cell_type": "code",
   "execution_count": 18,
   "metadata": {},
   "outputs": [],
   "source": [
    "id_table=np.array(id_table, dtype=object)"
   ]
  },
  {
   "cell_type": "code",
   "execution_count": 19,
   "metadata": {},
   "outputs": [
    {
     "data": {
      "text/plain": [
       "array(['5ef6c4b8cb925cf05ddd876a', '5ef69a135ef68f28bfdd876a',\n",
       "       '5ef69a1328a6ea1e97dd876a', ..., '5da117af06e3e7269429a310',\n",
       "       '5cd5b6169ce2e7777eef0f2d', '5e3b5c2edee7e7777ff5c8ee'],\n",
       "      dtype=object)"
      ]
     },
     "execution_count": 19,
     "metadata": {},
     "output_type": "execute_result"
    }
   ],
   "source": [
    "id_table"
   ]
  },
  {
   "cell_type": "code",
   "execution_count": 20,
   "metadata": {},
   "outputs": [],
   "source": [
    "np.save('../../data/id_table', id_table, allow_pickle=True )"
   ]
  },
  {
   "cell_type": "code",
   "execution_count": 4,
   "metadata": {},
   "outputs": [],
   "source": [
    "df1=df[['Column2', 'Column4', 'minuscules','minuscules.1']]\n",
    "df1=df1.astype(str)"
   ]
  },
  {
   "cell_type": "code",
   "execution_count": 5,
   "metadata": {},
   "outputs": [],
   "source": [
    "df1['sentences']=df1[['Column2', 'Column4', 'minuscules','minuscules.1']].agg('. '.join, axis=1)\n",
    "df1['nodesc']=df1[['Column2', 'minuscules.1']].agg('. '.join, axis=1)"
   ]
  },
  {
   "cell_type": "code",
   "execution_count": 6,
   "metadata": {},
   "outputs": [
    {
     "data": {
      "text/plain": [
       "\"périmètre d'exposition au risque du pprn de la commune de plombières-lès-dijon en côte-d'or. donnees-ouvertes,geoscientific-information,inondation,passerelle-inspire,risque-zonages-risque-naturel\""
      ]
     },
     "execution_count": 6,
     "metadata": {},
     "output_type": "execute_result"
    }
   ],
   "source": [
    "df1['nodesc'][23181]"
   ]
  },
  {
   "cell_type": "code",
   "execution_count": 7,
   "metadata": {},
   "outputs": [],
   "source": [
    "import re\n",
    "\n",
    "cp_1252_chars = {\n",
    "    # from http://www.microsoft.com/typography/unicode/1252.htm\n",
    "    u\"\\x80\": u\"\\u20AC\", # EURO SIGN\n",
    "    u\"\\x82\": u\"\\u201A\", # SINGLE LOW-9 QUOTATION MARK\n",
    "    u\"\\x83\": u\"\\u0192\", # LATIN SMALL LETTER F WITH HOOK\n",
    "    u\"\\x84\": u\"\\u201E\", # DOUBLE LOW-9 QUOTATION MARK\n",
    "    u\"\\x85\": u\"\\u2026\", # HORIZONTAL ELLIPSIS\n",
    "    u\"\\x86\": u\"\\u2020\", # DAGGER\n",
    "    u\"\\x87\": u\"\\u2021\", # DOUBLE DAGGER\n",
    "    u\"\\x88\": u\"\\u02C6\", # MODIFIER LETTER CIRCUMFLEX ACCENT\n",
    "    u\"\\x89\": u\"\\u2030\", # PER MILLE SIGN\n",
    "    u\"\\x8A\": u\"\\u0160\", # LATIN CAPITAL LETTER S WITH CARON\n",
    "    u\"\\x8B\": u\"\\u2039\", # SINGLE LEFT-POINTING ANGLE QUOTATION MARK\n",
    "    u\"\\x8C\": u\"\\u0152\", # LATIN CAPITAL LIGATURE OE\n",
    "    u\"\\x8E\": u\"\\u017D\", # LATIN CAPITAL LETTER Z WITH CARON\n",
    "    u\"\\x91\": u\"\\u2018\", # LEFT SINGLE QUOTATION MARK\n",
    "    u\"\\x92\": u\"\\u2019\", # RIGHT SINGLE QUOTATION MARK\n",
    "    u\"\\x93\": u\"\\u201C\", # LEFT DOUBLE QUOTATION MARK\n",
    "    u\"\\x94\": u\"\\u201D\", # RIGHT DOUBLE QUOTATION MARK\n",
    "    u\"\\x95\": u\"\\u2022\", # BULLET\n",
    "    u\"\\x96\": u\"\\u2013\", # EN DASH\n",
    "    u\"\\x97\": u\"\\u2014\", # EM DASH\n",
    "    u\"\\x98\": u\"\\u02DC\", # SMALL TILDE\n",
    "    u\"\\x99\": u\"\\u2122\", # TRADE MARK SIGN\n",
    "    u\"\\x9A\": u\"\\u0161\", # LATIN SMALL LETTER S WITH CARON\n",
    "    u\"\\x9B\": u\"\\u203A\", # SINGLE RIGHT-POINTING ANGLE QUOTATION MARK\n",
    "    u\"\\x9C\": u\"\\u0153\", # LATIN SMALL LIGATURE OE\n",
    "    u\"\\x9E\": u\"\\u017E\", # LATIN SMALL LETTER Z WITH CARON\n",
    "    u\"\\x9F\": u\"\\u0178\", # LATIN CAPITAL LETTER Y WITH DIAERESIS\n",
    "} \n",
    "\n",
    "def fix_1252_codes(text):\n",
    "    \"\"\"\n",
    "    Replace non-standard Microsoft character codes from the Windows-1252 character set in a unicode string with proper unicode codes.\n",
    "    Code originally from: http://effbot.org/zone/unicode-gremlins.htm\n",
    "    \"\"\"\n",
    "    if re.search(u\"[\\x80-\\x9f]\", text):\n",
    "        def fixup(m):\n",
    "            s = m.group(0)\n",
    "            return cp_1252_chars.get(s, s)\n",
    "        if isinstance(text, type(\"\")):\n",
    "            text = str(text)\n",
    "        text = re.sub(u\"[\\x80-\\x9f]\", fixup, text)\n",
    "    return text \n",
    "\n",
    "def super_cleaning(dfx):\n",
    "    for i in range(len(dfx)):\n",
    "        dfx[i]=fix_1252_codes(dfx[i])\n",
    "        dfx[i]=re.sub(r'\\S*.(fr|org|com|map|jpeg|jpg|zip|png)\\b','', dfx[i])\n",
    "        dfx[i]=re.sub(r\"\"\"\n",
    "               [,;@#/\\\\?*[\\]\\r\\n\\<\\>\\_\\{\\}\\»\\«\\\\\\(\\)!&$]+  # Accept one or more copies of punctuation\n",
    "               \\ *           # plus zero or more copies of a space,\n",
    "               \"\"\",\n",
    "               \" \",          # and replace it with a single space\n",
    "               dfx[i], flags=re.VERBOSE)\n",
    "        \n",
    "        dfx[i]=re.sub(r'\\\\x\\w+',' ', dfx[i])\n",
    "        dfx[i]=re.sub(r'\\bx\\w+', '', dfx[i])\n",
    "        dfx[i]=re.sub(r'\\S+\\d+\\w+', \" \", dfx[i])\n",
    "        dfx[i]=re.sub(r'(?:^| )\\w(?:$| )',' ',dfx[i])\n",
    "        dfx[i]=re.sub(' +', ' ', dfx[i])\n",
    "       \n",
    "     #\\b\\x\\w+\n",
    "    return(dfx)\n",
    "\n",
    "#LINKS\n",
    "#text = re.sub(r'^https?:\\/\\/.*[\\r\\n]*', '', text, flags=re.MULTILINE)\n",
    "#REPLACE - with space \n",
    "#text= text.replace('-', ' ')\n",
    "#REPLACE \\x92 with ' \n"
   ]
  },
  {
   "cell_type": "code",
   "execution_count": 238,
   "metadata": {},
   "outputs": [],
   "source": [
    "#cleaned1=super_cleaning(df1['sentences'])\n",
    "nodesc_clean=super_cleaning(df1['nodesc'])"
   ]
  },
  {
   "cell_type": "code",
   "execution_count": 240,
   "metadata": {},
   "outputs": [
    {
     "data": {
      "text/plain": [
       "'p.l.u. de capvern. nan'"
      ]
     },
     "execution_count": 240,
     "metadata": {},
     "output_type": "execute_result"
    }
   ],
   "source": [
    "nodesc_clean[i]"
   ]
  },
  {
   "cell_type": "code",
   "execution_count": 8,
   "metadata": {},
   "outputs": [],
   "source": [
    "cleaned2=super_cleaning(df1['sentences'])"
   ]
  },
  {
   "cell_type": "code",
   "execution_count": 263,
   "metadata": {},
   "outputs": [
    {
     "data": {
      "text/plain": [
       "'secteur des cartes communales en seine et marne. donnees ouvertes passerelle inspire planning cadastre usage des sols'"
      ]
     },
     "execution_count": 263,
     "metadata": {},
     "output_type": "execute_result"
    }
   ],
   "source": [
    "i=random.randint(1,len(nodesc_clean))\n",
    "nodesc_clean[i]"
   ]
  },
  {
   "cell_type": "code",
   "execution_count": 9,
   "metadata": {},
   "outputs": [
    {
     "data": {
      "text/plain": [
       "'zonage réglementaire du plan de prévention du risque inondation par débordement de la rivière marne de châlons-en-champagne – secteur amont. Direction Départementale des Territoires de la Marne. pour '"
      ]
     },
     "execution_count": 9,
     "metadata": {},
     "output_type": "execute_result"
    }
   ],
   "source": [
    "cleaned2[20751][:200]"
   ]
  },
  {
   "cell_type": "code",
   "execution_count": 10,
   "metadata": {},
   "outputs": [],
   "source": [
    "cleaned2.to_pickle('../../data/cleaned2.pkl')\n",
    "cleaned2_np=cleaned2.to_numpy()\n",
    "np.save('../../data/cleaned2.npy', cleaned2_np, allow_pickle=True, fix_imports=True)"
   ]
  },
  {
   "cell_type": "code",
   "execution_count": 264,
   "metadata": {},
   "outputs": [],
   "source": [
    "nodesc_clean.to_pickle('../../data/nodesc_clean.pkl')\n",
    "nodesc_clean_np=nodesc_clean.to_numpy()\n",
    "np.save('../../data/nodesc_clean.npy', nodesc_clean_np, allow_pickle=True, fix_imports=True)"
   ]
  },
  {
   "cell_type": "markdown",
   "metadata": {},
   "source": [
    "### Liste des producteurs de données"
   ]
  },
  {
   "cell_type": "code",
   "execution_count": 11,
   "metadata": {},
   "outputs": [],
   "source": [
    "producteurs=set(df1['Column4'])"
   ]
  },
  {
   "cell_type": "code",
   "execution_count": 14,
   "metadata": {},
   "outputs": [
    {
     "name": "stdout",
     "output_type": "stream",
     "text": [
      "Counter({'Ressourcerie datalocale': 3176, 'nan': 2551, 'Région Île-de-France': 1249, 'Direction Départementale des Territoires et de la Mer de la Somme': 1029, 'Direction Départementale des Territoires du Cher': 1017, \"Direction Départementale des Territoires de l'Ariège\": 909, 'Région Occitanie / Pyrénées Méditerranée': 882, 'Mairie de Paris': 659, \"Ministère de l'Intérieur\": 613, \"Communauté d'Agglomération du Saint-Quentinois\": 602, 'Collectivité de Corse': 599, 'Toulouse métropole': 591, 'Direction Départementale des Territoires et de la Mer des Pyrénées-Atlantiques': 589, \"Direction Départementale des Territoires de l'Aube\": 580, 'Direction Départementale des Territoires de Haute-Savoie': 553, \"Système d'Information sur l'Eau\": 534, 'Métropole de Lyon': 517, 'Direction Départementale des Territoires de Meurthe-et-Moselle': 444, 'NosDonnées.fr': 427, \"Ministère de l'économie et des finances\": 391, \"DDT Côte-d'Or\": 390, 'La Rochelle': 379, 'DDT Tarn-et-Garonne': 355, 'DDTM Gard': 351, 'Région des Pays de la Loire': 336, 'Rennes Métropole en accès libre': 336, 'DREAL Nouvelle Aquitaine': 329, 'DDTM Pas-de-Calais': 317, 'Education Nationale': 312, \"Ministère de l'Agriculture et de l'Alimentation\": 312, 'SNCF': 308, \"Ville d'Issy-les-Moulineaux\": 305, 'DREAL Pays de la Loire': 299, 'Département de Loire-Atlantique': 296, 'Le Conseil Départemental de la Mayenne': 292, 'Métropole Européenne de Lille ': 290, \"Institut français de recherche pour l'exploitation de la mer (IFREMER)\": 273, 'DDT Drôme': 268, 'Direction Départementale des Territoires de Loir-et-Cher': 267, 'Grand Poitiers Open Data': 254, 'Seine-Saint-Denis - Le Département': 219, 'Direction Départementale des Territoires de Lot-et-Garonne': 219, 'DREAL Auvergne-Rhône-Alpes': 213, \"Métropole Nice Côte d'Azur\": 212, 'Ministère des Solidarités et de la Santé': 208, 'Cerema (Pôle \"Mobilité\")': 202, 'Région Hauts-de-France': 199, 'Ministère des Armées': 197, 'Hauts-de-Seine le Département': 193, 'Département du Loiret': 193, 'Ville de Meudon': 190, \"Communauté d'Agglomération Plaine Vallée\": 187, 'Direction Départementale des Territoires et de la Mer des Landes': 186, \"FranceAgriMer - Établissement national des produits de l'agriculture et de la mer\": 182, 'Cour des comptes': 176, 'Orléans Métropole': 173, \"Ministère de l'Enseignement supérieur, de la Recherche et de l'Innovation\": 173, 'Premier ministre': 169, 'Région Bretagne': 167, 'DREAL Bretagne': 162, 'Direction Départementale des Territoires du Haut-Rhin (68)': 153, 'Direction Départementale des Territoires de Saône-et-Loire': 153, 'Ville de Nantes': 150, 'DatARA - Données publiques ouvertes en Auvergne-Rhône-Alpes': 150, 'Nantes Métropole': 148, \"DDT de l'Ain\": 142, 'DREAL Bourgogne-Franche-Comté': 141, \"Direction Départementale des Territoires d'Eure-et-Loir\": 141, 'Groupe BPCE': 139, 'Géo2France': 139, 'Direction Départementale des Territoires des Vosges': 139, 'Direction Départementale des Territoires du Rhône': 137, \"DDT de l'Isère\": 134, 'Ville de Roubaix': 133, 'Région Centre-Val de Loire': 132, \"Département des Côtes d'Armor\": 129, 'Angers Loire Métropole': 126, 'Mulhouse Alsace Agglomération': 125, 'Ministère de la Culture': 122, \"Lig'Air\": 121, 'Direction Départementale des Territoires et de la Mer de Loire-Atlantique': 117, 'Open Data Réseaux Énergies': 116, 'Caisse Nationale des Allocations familiales ': 111, 'Lorient Agglomération': 111, 'Grand Paris Seine Ouest': 110, 'Conseil départemental de Haute-Garonne': 109, 'Commune de Brocas': 109, \"Direction Départementale des Territoires du Val d'Oise\": 108, 'DDT de la Loire': 106, 'IRDES & ECOSANTE.FR : Institut de Recherche et Documentation en Economie de la Santé': 105, 'Ville de Digne-les-Bains': 101, \"Direction Départementale des Territoires de l'Orne\": 98, 'DDT Deux-Sèvres': 98, 'Direction Départementale des Territoires du Loiret': 98, 'Direction Départementale des Territoires de la Sarthe': 96, 'Département du Bas-Rhin': 95, 'Département de Maine-et-Loire': 92, 'Direction Départementale des Territoires de Seine-et-Marne': 92, \"Direction régionale de l'Environnement, de l'Aménagement et du Logement de Normandie\": 91, 'DDTM Vendée': 89, 'Ministère de la Cohésion des territoires': 87, 'Ministère de la Transition écologique et solidaire': 87, 'DDT Haute-Garonne': 87, 'Conseil Départemental de la Gironde': 87, \"Ville d'Antibes\": 86, 'DDT Hautes-Pyrénées': 85, \"Direction Départementale des Territoires et de la Mer de l'Eure\": 85, 'Direction interrégionale de la mer Manche Est - mer du Nord': 85, \"Ministère de l'Europe et des Affaires Etrangères (MEAE)\": 82, \"Observatoire de l'environnement en Bretagne\": 82, 'Département de Saône-et-Loire': 81, 'Grand-Orly Seine Bièvre': 81, 'DRAAF Occitanie': 81, \"Direction Départementale des Territoires de l'Essonne\": 80, 'Direction Départementale des Territoires de la Corrèze': 79, 'GéoGuyane': 76, 'DDT Tarn': 76, \"Direction Départementale des Territoires d'Indre-et-Loire\": 75, 'Ministère du travail': 74, 'Bordeaux Métropole': 74, 'Ozwillo': 74, 'DDT Aveyron': 74, 'CHATEAUROUX METROPOLE': 73, 'Enedis': 73, 'Mairie de Saint-Denis (La Réunion)': 71, \"ville d'Agen\": 71, 'Météo-France': 71, 'Les Lilas': 71, 'Conseil général de Loir-et-Cher ': 70, 'DDT Indre': 69, \"Région Provence-Alpes-Côte-d'Azur\": 67, 'DDT Oise': 67, 'Occitanie Pyrénées en Intelligence Géomatique': 66, 'Rennes Métropole': 66, 'Direction Départementale des Territoires et de la Mer de Charente-Maritime': 66, 'Direction Départementale des Territoires des Alpes de Haute-Provence': 63, 'Ville du Havre': 61, 'Direction Départementale des Territoires du Bas-Rhin (67)': 59, \"Communauté d'Agglomération Bar-le-Duc Sud Meuse\": 57, 'Ville de Grenoble': 57, 'Île-de-France Mobilités': 56, 'DDT Dordogne': 56, 'Cerema': 55, 'Département des Hautes-Alpes': 55, 'DEAL Guyane': 55, 'Metz Métropole': 54, 'Direction Départementale des Territoires et de la Mer du Var': 54, \"Conseil général de l'Oise\": 54, 'Navitia': 53, 'Communauté de Communes Coeur Côte Fleurie': 53, \"DDT de l'Ardèche\": 53, 'IAU-ÎdF': 53, \"Communauté d'agglomération de la région nazairienne et de l'estuaire\": 51, 'Ville de Bayonne': 50, 'DDTM Manche': 50, 'Ville de Saint-Malo': 50, 'ADEME': 49, 'Le Havre Seine Métropole': 49, 'Direction Départementale des Territoires de la Lozère': 49, 'Mairie de Toulouse': 49, 'Institut National de la Statistique et des Etudes Economiques (Insee)': 48, 'Infogreffe ': 48, 'Grand Chambéry': 47, 'Etalab': 47, \"Direction Départementale des Territoires et de la Mer d'Ille-et-Vilaine\": 47, \"Syndicat Mixte Ouvert Provence-Alpes-Cote d'Azur Très Haut Débit - SMO SUD THD\": 45, 'Commune de Saint-Paul-lès-Dax': 45, 'Conseil départemental du Finistère': 44, \"Communauté d'Agglomération Ventoux Comtat Venaissin\": 44, 'Arles Crau Camargue Montagnette': 44, \"Réseau de Transport d'Electricité\": 43, 'Département du Doubs': 42, 'Shom': 42, 'DRAAF Alsace': 42, \"Communauté de communes du Val d'Ille - Aubigné\": 41, 'Fluo Grand Est': 40, 'Nouvelle-Aquitaine Mobilités': 40, 'Cap Atlantique': 40, 'Opendatasoft': 40, 'Ville de Rennes': 40, 'Ville de Levallois': 39, \"Communauté d'Agglomeration Versailles Grand Parc\": 39, 'Géocatalogue': 39, 'Direction Départementale des Territoires de la Marne': 38, 'Direction Départementale des Territoires de la Haute-Loire': 38, 'DDT Nièvre': 38, 'DDT Lot': 37, 'DDT Creuse': 37, 'DDT Savoie': 37, 'Tours Métropole Val de Loire': 36, 'Département des Hautes-Pyrénées': 36, 'Régie autonome des transports parisiens (RATP)': 35, 'DRAAF Bretagne': 35, 'DDTM Hérault': 35, 'Conseil départemental de la Manche': 35, \"Communauté d'Agglomération Lisieux Normandie\": 34, 'ACTION Nogent-sur-Marne': 34, \"Conseil départemental d'Eure-et-Loir\": 33, 'Ville de Marseille': 33, 'Institut national de la propriété industrielle (INPI)': 33, 'DREAL Languedoc-Roussillon': 33, 'DRAAF Nouvelle Aquitaine': 33, 'DDTM Finistère': 33, \"Centre national du cinéma et de l'image animée\": 33, 'Mairie de Bar-le-Duc': 32, 'ATMO Grand Est': 32, 'UMR 1069 SAS INRA - Agrocampus Ouest ': 32, 'Saint Quentin (Aisne)': 32, 'OpenStreetMap': 30, \"DREAL Provence-Alpes-Côte d'Azur\": 30, \"Grand Belfort Communauté d'Agglomération\": 30, 'DDTM Ille-et-Vilaine': 30, \"Direction Régionale et Interdépartementale de l'Équipement et de l'Aménagement d'Île-de-France\": 30, 'Pas-de-Calais tourisme': 30, 'Comité Départemental du Tourisme de la Gironde': 30, 'Région Normandie': 27, 'Région GRAND EST': 27, 'DDT Vienne': 27, 'Zenbus': 26, 'Commune de Sixt-sur-Aff': 26, \"Sicoval - communauté d'agglomération du Sud-Est toulousain\": 26, 'Coulommiers': 26, 'Direction Départementale des Territoires du Doubs': 25, 'Haute Autorité de santé (HAS)': 25, 'Ville de Lorient': 25, 'Mairie de Boé': 25, \"Département d'Ille-et-Vilaine\": 25, \"Caisse nationale de l'assurance maladie\": 25, 'GRAND BESANCON METROPOLE': 24, 'GRTgaz': 24, 'Conseil départemental des Alpes-Maritimes': 24, 'SICTIAM': 24, 'Institut National du Cancer': 24, \"Institut National de l'Information Géographique et Forestière\": 24, 'Haute Autorité pour la diffusion des \\x9cuvres et la protection des droits sur internet (HADOPI)': 24, 'DREAL Poitou-Charentes': 24, \"Département de l'Hérault\": 23, \"Communauté d'Agglomération du Grand Cahors\": 23, \"Ministère de l'Economie, de l'Industrie et du Numérique\": 23, 'DDTM Corse-du-Sud': 23, 'Agglomération de Chalons en Champagne': 22, 'Pôle emploi': 22, 'Géo17': 21, 'DEAL Martinique': 21, 'Agence Française de Développement (AFD)': 20, 'IdeesLibres.org': 20, \"Commune d'Anglet\": 20, \"DIRECTION DEPARTEMENTALE DE L'ESSONNE\": 20, 'Direction Départementale des Territoire du Puy-de-Dôme': 20, 'DREAL Franche-Comté': 20, 'Région Alsace': 20, 'Loire-Atlantique Développement': 20, 'Commune de Saint-Claude': 19, \"Syndicat Mixte des Mobilités de l'Aire Grenobloise\": 19, 'Ville de Boulogne-Billancourt': 19, 'Ministère de la Justice': 19, \"Direction Départementale des Territoires de l'Allier\": 19, \"Unions de Recouvrement des cotisations de Sécurité Sociale et d'Allocations Familiales\": 18, 'Département du Gers': 18, 'Grenoble-Alpes Métropole': 17, 'Département du Calvados': 17, 'Département du Morbihan': 17, 'CORBION': 17, 'AtmoSud': 17, 'Agence ORE': 16, 'Saemes ': 16, \"Point d'Accès National transport.data.gouv.fr\": 16, 'Ville de Pirae': 16, 'Yanport': 16, 'Commission Nationale des Comptes de Campagne et des Financements Politiques (CNCCFP)': 16, 'Ministère des sports': 16, 'Longjumeau': 16, 'DDTM Haute-Corse': 16, 'DDT Jura': 16, 'DDTM Seine-Maritime': 16, 'Préfecture de la région Occitanie': 16, \"Centre Régional Auvergne-Rhône-Alpes de l'Information Géographique\": 16, 'Eurométropole de Strasbourg': 15, \"Commission de régulation de l'énergie (CRE)\": 15, 'Communauté de Communes du Golfe de Saint-Tropez': 15, 'CNIL': 15, 'Chalons en champagne': 15, \"Commune de Ville d'Avray\": 15, 'Agence nationale pour la rénovation urbaine': 15, 'GéoGrandEst': 14, \"Communauté d'Agglomération du Pays Ajaccien\": 14, 'Airparif': 14, 'Direction Départementale des Territoires et de la Mer du Calvados': 14, 'DDT de la Meuse': 14, 'DDT Hautes-Alpes': 14, 'Ville de Vanves': 14, \"Fondation pour l'innovation politique\": 14, 'Commune de Chaville': 14, 'Autorité de régulation des communications électroniques et des postes (ARCEP)': 13, 'Infos-Réseaux.com': 13, 'Bibliothèque nationale de France': 13, 'Ville de Lisieux': 13, 'DDT Ardennes': 13, 'DRAAF Lorraine': 13, 'DDTM Alpes-Maritimes': 13, 'IDéO BFC': 13, 'Irstea': 13, \"Agence de l'eau Rhône-Méditerranée et Corse\": 13, \"Office national d'information sur les enseignements et les professions\": 12, \"Communauté d'agglomération du Val de Fensch\": 12, 'Santé publique France': 12, 'Conseil Départemental des Pyrénées Orientales': 12, \"Direction Générale de l'Administration et de la Fonction Publique\": 12, 'GRDF': 12, 'Ville de Nevers': 12, 'DRAAF Auvergne-Rhône-Alpes': 12, 'Ville de Castelnaudary': 12, 'Société du Grand Paris': 12, \"Département de l'Ain\": 12, 'Caisse des Dépôts - Retraites': 12, 'DREAL Bourgogne': 12, \"Mairie de Monacia d'Aullène\": 12, \"Agence Technique de l'information sur l'Hospitalisation (ATIH)\": 12, 'Observatoire national de la délinquance et des réponses pénales (ondrp)': 12, 'Sarlat-La Canéda': 12, 'Assemblée nationale': 11, 'Ville de Béthune': 11, 'Pôle métropolitain du Pays de Brest': 11, 'Mairie du Plessis-Trévise': 11, \"PIGMA - Plateforme d'Echange de données en Nouvelle-Aquitaine\": 11, 'Agence nationale de la cohésion des territoires': 11, 'DAAF Martinique': 11, 'DDT Yvelines': 11, 'DRAAF Centre-Val de Loire': 11, 'CeNGEPS (Centre National de Gestion des Essais de Produits de Santé)': 11, 'Ville de Saint-Egrève': 10, 'Mégalis Bretagne': 10, 'Ville de Besancon': 10, 'JVMALIN': 10, \"Communauté d'Agglomération de Nevers\": 10, 'Ville de Nogent-sur-Marne': 10, 'DDT Haute-Vienne': 10, 'DRIAAF Île-de-France': 10, \"Muséum National d'Histoire Naturelle\": 10, 'Air Pays de la Loire': 10, 'Villemomble': 10, \"Service d'Information du Gouvernement\": 9, 'Atlasanté': 9, 'Commune de Montesquieu-Volvestre': 9, 'Ville de Nanterre': 9, \"Agence nationale de sécurité sanitaire, de l'alimentation, de l'environnement et du travail (Anses)\": 9, 'Mairie de Bains-sur-Oust': 9, 'Institut de la statistique de la Polynésie française': 9, 'OpenEventDatabase': 9, 'DDTM Pyrénées-Orientales': 9, \"Musée d'art et d'histoire - Ville de Saint-Brieuc\": 9, 'Lannion-Trégor Communauté': 9, 'Pays Midi Quercy': 9, 'CIGAL (Coopération pour l\\x92Information Géographique en Alsace)': 9, 'Ville de Marnes-la-Coquette': 9, 'Madada': 8, 'REDON Agglomération': 8, 'Communauté de communes du Pays Mornantais': 8, 'Roissy-en-Brie': 8, \"Communauté d'Agglomération Royan Atlantique\": 8, 'Agence du Numérique': 8, 'VILLE DE VINCENNES': 8, 'Mairie de Mazingarbe': 8, 'DDTM Morbihan': 8, 'Centre des monuments nationaux ': 8, 'SAINT-MALO AGGLOMERATION': 8, 'OpenHealth Company': 8, 'Le Grand Chalon': 7, 'Commune de Champagne-sur-Seine': 7, \"Département de l'Indre\": 7, 'Ville de Rambouillet': 7, \"Conseil départemental d'Indre-et-Loire\": 7, 'Sénat': 7, \"Agence pour l'Informatique Financière de l'Etat\": 7, 'VILLE DE FORT-DE-FRANCE': 7, 'Office National des Forêts': 7, 'Filibus - Chartres Métropole Transports': 7, 'Morbihan énergies': 7, 'Association des Utilisateurs de Bornes Electriques': 7, \"Ville d'Onet-le-Château\": 7, 'Quimper Bretagne Occidentale': 7, \"Transfermuga (par l'Eurorégion Aquitaine-Euskadi-Navarre)\": 7, 'Le deuxième texte': 7, 'Mairie de Rodez': 7, 'Brest métropole': 7, \"Agence de l'eau Loire-Bretagne\": 7, 'Parc naturel régional de la Montagne de Reims': 7, 'Mairie de Noé': 7, 'DDTM Aude': 7, 'DDT de la Moselle': 7, \"École nationale supérieure d'art Villa Arson de Nice\": 7, 'Airaq': 7, 'Ville de Garges-lès-Gonesse': 6, 'DEPARTEMENT DE LA SAVOIE': 6, \"Communauté d'agglomération Paris - Vallée de la Marne\": 6, 'AGENCE TECHNIQUE DEPARTEMENTALE 36': 6, 'Incubateur de Services Numériques': 6, \"Institut national de l'origine et de la qualité (INAO)\": 6, \"Clem' Ecomobilité\": 6, 'Mairie de Pleumeleuc': 6, 'Ville de Saint-Avé': 6, 'Rosny-sous-Bois': 6, \"Maison de l'Emploi et de la Formation du Rhône\": 6, \"Association Pour l'Emploi des Cadres\": 6, 'Commune de TALENSAC': 6, 'Commune de BRETEIL': 6, 'Iffendic': 6, 'Atmo Auvergne-Rhône-Alpes': 6, 'Ville de PLERIN': 6, 'DRAAF Bourgogne': 6, 'GéoLimousin': 6, 'Picardie Nature': 6, 'Conseil départemental du Cantal': 6, 'Toulouse-Métropole.data': 6, 'Ville de Pontault-Combault': 5, \"Société d'Equipement des Pays de l'Adour\": 5, 'Pays de Châteaugiron Communauté': 5, 'Pôle Référentiel des Données géolocalisées': 5, 'Etablissement Français du Sang': 5, 'Ville de Caen': 5, \"Agence landaise pour l'informatique\": 5, 'RTC MccMc 20-11-2018. Louvre-Lens. Les Rencontres du Tourisme Culturel / France, Ministère de la culture, le 20 novembre 2018.': 5, \"Syndicat Intercommunal des Transports urbains de l'Agglomération du Calaisis \": 5, \"Le Grand Narbonne Communauté d'Agglomération\": 5, 'Datactivist': 5, 'Ville de Nancy': 5, 'Communauté de communes Vallée des Baux-Alpilles': 5, 'Commune de Saint-Germain-en-Laye': 5, 'Direction interministérielle du numérique': 5, 'Morbihan Tourisme': 5, \"Service Départemental d'Incendie et de Secours du Gard\": 5, 'GIREVE': 5, 'Ville de Wambrechies': 5, 'Infolocale': 5, 'Mutualité Sociale Agricole': 5, 'Territoires Numériques Bourgogne-Franche-Comté': 5, 'Fédération Française de Vol Libre': 5, 'Mairie de Petit-Couronne': 5, 'Ville de Limoges': 5, 'Roannais Agglomération': 5, 'Dododata': 5, 'Mairie de Redon': 5, 'Mogneneins': 5, 'DREAL Lorraine': 5, 'DDT Mayenne': 5, 'DDT Yonne': 5, 'Sciences Po': 5, 'Le Moulin Digital': 5, 'DRAAF Basse-Normandie': 5, 'Croix-Rouge française': 5, 'Commune de Faugères (07)': 5, 'Centre National des \\x8cuvres Universitaires et Scolaires': 5, 'Agence de services et de paiement (ASP)': 5, 'Musique et Danse en Loire-Atlantique': 5, 'Réseau  régional Inspection Contrôle Evaluation DR(D)JSCS': 4, \"Section topographie du service de l'urbanisme de la Polynésie-Française\": 4, \"Oise Mobilité - Syndicat mixte des transports collectifs de l'Oise\": 4, 'Parc naturel régional des Vosges du Nord': 4, 'Ça reste ouvert': 4, 'International Health Market Trends [IHMT]': 4, 'CCI  SEINE MER NORMANDIE': 4, 'cagougeeks': 4, 'Ville de Noisiel': 4, 'COMINES': 4, 'DONCIERES': 4, \"Mairie d'ANDUZE\": 4, 'VILLE DE MEZE': 4, 'Haute Autorité pour la transparence de la vie publique': 4, \"Institut national de l'audiovisuel\": 4, 'Ville de Villiers-le-Bel': 4, 'OpenDataFrance': 4, 'La ROCHELLE UNIVERSITE': 4, \"Syndicat mixte interrégional d'aménagement des digues du delta du Rhône et de la mer \": 4, \"Communauté d'Agglomération Sophia Antipolis\": 4, \"Ville d'Autun\": 4, 'Autorité de régulation des transports (anciennement Arafer)': 4, 'Montfort Communauté': 4, 'La République En Marche !': 4, 'Pôle de topographie et de gestion cadastrale de Guyane': 4, \"Agence d'Urbanisme de Rouen et des Boucles de Seine et Eure\": 4, 'Commune de Saint-Gonlay': 4, 'Commune de La Nouaye': 4, \"Syndicat des Eaux du Bassin de l'Ardèche\": 4, 'Projet de recherche GEOBS': 4, 'global map solution': 4, 'Bassin Adour garonne': 4, 'Programme DataEnergie - 29&30 juin': 4, 'Rectorat de Caen': 4, 'DREAL Champagne-Ardenne': 4, 'Astrolabe Expéditions': 4, 'UFO Urbanisme Collaboratif': 4, 'ASsociation des Arracheurs BEnévoles  de Plantes Invasives ': 4, 'Service central d\\x92hydrométéorologie et d\\x92appui à la prévision des inondations': 4, 'Observatoires Locaux des Loyers': 4, 'La Poste': 4, 'My C-Sense': 4, 'Université participative': 4, \"Institut français du cheval et de l'équitation (IFCE)\": 4, 'Altercarto': 4, \"Établissement public du musée d'Orsay et du musée de l'Orangerie\": 4, 'JCDecaux developer': 4, 'GIP Corse Compétences': 4, 'Agence des espaces verts - IDF': 4, 'MAT - Réseau de bus de Saint Malo Agglomération': 3, 'Syndicat Mixte des Stations du Mercantour': 3, 'Coëvrons': 3, 'Tempo Bus': 3, 'Mairie de Bois-le Roi': 3, 'Commune de Bergerac': 3, 'Ville de Montbéliard': 3, 'PubliXL': 3, 'Syndicat Mixte de Valberg': 3, 'Département Lot': 3, 'SICAE-OISE': 3, 'Direction générale des collectivités locales': 3, 'Mairie de Saint-Marcel (71)': 3, 'Commune de La Grande Paroisse': 3, 'Cap Digital': 3, 'Communauté de communes de la porte des Vosges Méridionales ': 3, 'SMICA': 3, 'Commune de Saint-Vincent-sur-Oust': 3, 'ANNEMASSE AGGLOMÉRATION LES VOIRONS': 3, \"Centre National d'Etudes Spatiales\": 3, 'Berry Numérique': 3, \"Agence de Mutualisation des Universités et Etablissements d'enseignement supérieur ou de recherche \": 3, \"Service départemental d'incendie et de secours de l'Essonne\": 3, 'Syndicat des Mobilités Pays Basque-Adour': 3, \"Communauté d'agglomération de l'Albigeois\": 3, \"Ressources Dumont d'Urville\": 3, \"Commission de récolement des dépôts d'oeuvres d'art\": 3, \"Commune d'Osserain-Rivareyte\": 3, \"Communauté d'Agglomération Privas Centre Ardèche\": 3, \"SYNDICAT MIXTE RESEAU D'INITIATIVE PUBLIQUE 36\": 3, 'Re-search Alps Project': 3, 'CERTEUROPE - OMNIKLES': 3, 'Lycée des Métiers Augustin Hebert': 3, 'Parc national des Cévennes': 3, 'Les Ulis': 3, 'SOLURIS Syndicat Informatique de Charente Maritime': 3, 'Ville de Cogolin': 3, 'Ville de ROSCOFF': 3, 'Ville et CCAS de TALANT': 3, 'Mapotempo': 3, \"Service Départemental d'Incendie et de Secours de l'INDRE\": 3, \"Direction Départementale des Territoires et de la Mer de l'Hérault\": 3, 'Centre Interministériel de Services Informatiques relatifs aux Ressources Humaines (CISIRH)': 3, 'Fédération des Aveugles et Amblyopes de France': 3, 'Conseil Départemental de Vaucluse': 3, 'PORTS NORMANDS ASSOCIES': 3, 'DREAL Midi-Pyrénées': 3, 'DREAL Auvergne': 3, \"Service Départemental d'Incendie et de Secours du Bas-Rhin\": 3, \"Centre de Gestion de la Fonction Publique Territoriale de l'Aude\": 3, 'Citoyens.com': 3, 'Projet de recherche ECCE Carto': 3, 'MémorialGenWeb': 3, 'DataSpot': 3, 'dataexplorer.fr': 3, 'Centre National de la Propriété Forestière': 3, \"Service départemental d'incendie et de secours du Tarn\": 3, 'Hooger SAS': 3, 'Havas Media': 3, 'DIRECTION DEPARTEMENTALE DES TERRITOIRES DE SAONE-ET-LOIRE (71)': 3, 'Mairie de Louviers': 3, 'UFC Que Choisir': 3, 'Ined': 3, \"École nationale supérieure des métiers de l'image et du son (La Fémis)\": 3, 'Musée des arts asiatiques Guimet': 3, 'Institut national de recherches archéologiques préventives': 3, 'Agence Bio': 3, 'Mendionde': 2, 'Gamarthe': 2, 'Région Reunion': 2, \"Communauté d'Agglomération du Pays de Saint-Omer\": 2, 'Direction Générale des Entreprises': 2, 'Fédération des Parcs Naturels Régionaux de France': 2, \"SAINT ANDRE GOULE D'OIE\": 2, 'Agence Nationale de la Recherche': 2, 'e-Totem': 2, 'Saint-Étienne-de-Baïgorry ': 2, 'Souraïde': 2, 'Lacarre': 2, 'Çaro': 2, 'Arhansus': 2, 'Gabat': 2, 'Jaxu': 2, 'Méharin': 2, 'Halsou': 2, 'Débutant-e-AccepT': 2, 'Régie de Gestion des Données Savoie Mont Blanc': 2, 'Open Data Rodez Agglomération': 2, 'Communauté urbaine de Caen la mer': 2, 'MEDIALEX': 2, 'Commune de Châteaugiron': 2, 'COMMUNE DE SAINT-JULIEN': 2, \"MAIRIE DE JOUET  SUR L'AUBOIS\": 2, 'Aéroport La Rochelle-Ile de Ré': 2, 'Saint-Esteben': 2, 'Béguios': 2, \"Caisse nationale de solidarité pour l'autonomie (CNSA)\": 2, 'Communauté de Communes du Plateau picard': 2, 'Itxassou': 2, 'Communauté de Communes de Forez-Est': 2, 'Communauté de Communes du Centre Haut-Rhin': 2, \"Commune d'Ainhoa\": 2, 'Régie des Transports Carcassonne Agglo': 2, \"DDTM Côtes d'Armor\": 2, \"Communauté de Communes du Pays Réuni d'Orange\": 2, 'Syndicat Mixte des 4 Communautés de communes': 2, 'Saint-Etienne Métropole': 2, \"Société d'économie Mixte des Transports Montalbanais\": 2, 'COMMUNE DE LAMACHE': 2, 'Montluçon Communauté': 2, 'Koumoul': 2, 'MAIRIE LES TAILLADES': 2, 'Commune de Dombrot sur Vair': 2, 'DiviaMobilités': 2, 'Grand Avignon': 2, 'Air France KLM group': 2, 'Mairie de Rillieux la Pape': 2, 'monRéZO': 2, 'French Ambassador for Digital Affairs / Ambassadeur pour le numérique': 2, 'Mairie de MIREMONT': 2, 'Saint Laurent de Mure': 2, \"Agence Nationale de la Sécurité des Systèmes d'Information\": 2, \"Commune d'Ayherre\": 2, 'Fabrique Collective de la Culture du Libre': 2, \"Commune d'Orsanco\": 2, 'WYZY': 2, 'OpenDataFrance-test': 2, 'Mairie de Coti Chiavari': 2, \"Communauté d'Agglomération du Bassin de Brive\": 2, 'Profil acheteur https://marchespublics596280.fr ': 2, 'Communauté de communes du Pays Bigouden Sud': 2, 'LOIRE FOREZ AGGLOMERATION': 2, 'Communauté de communes Baugeois Vallée': 2, 'Archives municipales de Saint-Brieuc': 2, 'Commune de Tullins': 2, 'Mairie de Ganges': 2, \"Communauté d'agglomération Porte de l'Isère\": 2, \"Conseil départemental de l'Isère\": 2, 'Etablissement public national Antoine Koenigswarter': 2, 'KICEO': 2, 'Montpellier Méditerranée Métropole': 2, 'Ville de Dammartin-en-Goële': 2, 'Optymo - Belfort': 2, 'Dematis': 2, 'Commune de Draguignan': 2, 'Parc national des Écrins': 2, 'Ordre des géomètres-experts': 2, 'Réseau Canopé': 2, 'Communauté de communes du Grand Chambord ': 2, 'Commune de Mont-près-Chambord ': 2, \"Communauté d'agglomération de La Rochelle\": 2, 'SAIEM AGIRE': 2, 'Maisons et Cites': 2, 'CHAMBERY GRAND LAC ECONOMIE': 2, 'Nextérité': 2, \"COMMUNE D'EATULIERS\": 2, 'Electric 55 Charging': 2, \"Communauté d'agglomération du Pays de Grasse\": 2, 'Communauté de communes Causses et Vallée de la Dordogne': 2, 'La Gaude': 2, 'Manche Habitat': 2, 'Doctrine': 2, \"Communauté d'Agglomération Béziers Méditerranée\": 2, 'Mairie de Soyaux': 2, \"Communauté d'agglomération du Boulonnais\": 2, 'EmTech Europe': 2, \"Ville de Pont-l'Abbé\": 2, 'DOUAISIS AGGLO': 2, \"Service Départemental d'Incendie et de Secours de la Gironde\": 2, \"Ville d'Asnières-sur-Seine \": 2, 'Adoc Mètis': 2, 'SYMIELEC VAR': 2, 'Conseil départemental de la Nièvre': 2, 'Ville de Lanester': 2, \"Syndicat des Énergies du Département de l'Isère\": 2, 'Élysée - Présidence de la République': 2, 'Open Food Facts': 2, 'C-CAR': 2, 'Grand Paris Sud': 2, 'QUORUM ': 2, \"Mouv'Oise\": 2, 'TBi Scientific®': 2, 'Oxfam France': 2, 'Ouvre-boîte': 2, \"Syndicat départemental d'énergies de l'Ardèche\": 2, 'Conseil constitutionnel': 2, 'DRAAF Franche-Comté': 2, 'Ville de Plaintel': 2, 'Ville de Sèvres': 2, 'Syndicat Départemental des Energies de Seine-et-Marne': 2, 'Tesla': 2, 'OpenSolarMap': 2, 'Wikimédia France': 2, 'World Resources Institute': 2, 'oqp.io': 2, 'Union Nationale des Associations Familiales': 2, 'Agence nationale des fréquences': 2, 'DREAL Aquitaine': 2, 'Association Breizh Small Business Act': 2, 'Dispotrains': 2, 'Ville de Mahina': 2, 'Open Data Bourgogne': 2, 'Parc Naturel Régional du Vercors': 2, \"Chambre de Métiers et de l'Artisanat de Tarn-et-Garonne\": 2, 'Images & Réseaux': 2, 'Inria': 2, 'OpenAgenda': 2, 'Datalift': 2, 'Voxe.org': 2, 'Open Météo Foundation': 2, 'Résot Alsace': 2, 'Région des Pays de la Loire ouverture des données publiques': 2, \"PSE - Ecole d'Economie de Paris\": 2, 'Open Data Alsace': 2, \"Centre national d'art et de culture Georges Pompidou\": 2, \"Conseil régional d'Aquitaine\": 2, \"Office national de l'eau et des milieux aquatiques (ONEMA)\": 2, 'Le Perreux sur Marne': 2, 'Réseau ferré de France': 2, 'Observatoire français des drogues et des toxicomanies': 2, \"Agence pour l'enseignement français à l'étranger\": 2, 'organization': 1, \"Syndicat Mixte des Transports en Commun de l'Agglomération Clermontoise\": 1, 'IZIVIA': 1, 'France compétences': 1, 'Plans.fr': 1, 'Evron': 1, 'Syndicat Mixte des Transports Urbains du grand Nouméa': 1, 'Communauté de communes Quercy Vert - Aveyron': 1, 'TutorielGeo': 1, 'QUASAR Coaching Lille': 1, \"Fédération Nationale des Syndicats de l'Assainissement et de la Maintenance Industrielle\": 1, 'Gisaïa': 1, 'Laval Mayenne Aménagements': 1, 'Conseil départemental de la Dordogne': 1, 'Ewolis': 1, 'Covid-initiatives': 1, 'Geovista.Space': 1, 'MSPR Maintenance': 1, 'EPSI': 1, 'Mairie de Mont de Marsan': 1, 'Kalisio': 1, 'OpenCOVID19-fr': 1, 'évolitY': 1, \"Syndicat Intercommunal de Mobilité et d'Organisation Urbaine du Valenciennois\": 1, \"Secrétariat Général de l'Administration du Ministère de l'Intérieur Nord - Bureau des Marchés Publics\": 1, \"L'alliance thématique nationale des sciences humaines et sociales\": 1, 'C.S.S.R LES TILLEULS': 1, \"Syndicat Intercommunal d'Énergies d'Équipement et d'Environnement de la Nièvre\": 1, 'HERAULT ENERGIES': 1, \"Syndicat Interdépartemental  De l'Eau Seine Aval\": 1, 'Agence Technique Départementale de la Charente': 1, 'Caisse des écoles - Ville de Châtellerault': 1, 'Ville de Châtellerault': 1, 'Robots domestiques dans les ménages français': 1, \"Communauté d'Agglomération de Grand Chatellerault\": 1, \"Communauté d'Agglomération de la Région de Compiègne et de la Basse Automne\": 1, 'CALITOM': 1, 'Direction Interministérielle de la Transformation Publique': 1, 'Phramboise encore': 1, 'adresse.data.gouv.fr': 1, 'AlertesRER': 1, 'Périgny': 1, 'COMMUNE DE MONTAINVILLE': 1, \"Communauté d'Agglomération du Grand Dole\": 1, 'DECAZEVILLE COMMUNAUTE': 1, 'Communauté de Communes du Trièves': 1, 'Communauté de communes du val de Drôme en Biovallée': 1, 'TLV TVM': 1, 'Atmo France': 1, 'Prise de Nice': 1, 'NSI Rostand': 1, 'Vendre à un promoteur': 1, 'Consortium Numa-num Paris Time Machine': 1, 'Ville de Quiberon': 1, 'Parc Naturel régional de la Montagne de Reims': 1, 'Communauté de communes du Frontonnais': 1, 'PASTEL': 1, 'ecosystem': 1, 'Agence Technique Départementale de la Dordogne': 1, 'Clic Marché': 1, 'Communauté de Communes Lacs et Gorges du Verdon ': 1, 'AEF Info': 1, 'Andreadata': 1, 'AuFilDuBoamp_Lab': 1, 'Tableau des subventions accordées par l\\x92ETS OCPM': 1, 'Culture numérique': 1, 'Région Réunion': 1, 'CENTRE NATIONAL DE LA RECHERCHE SCIENTIFIQUE': 1, 'La Drôme': 1, 'Réseau de transport en commun Le Havre Seine Métropole': 1, 'Vallourec': 1, \"Ville d'Antony\": 1, \"COMMUNE D'ETAPLES/MER\": 1, 'SMIC DES VOSGES': 1, 'Pau Béarn Pyrénées Mobilités': 1, 'NSI au lycée Dumont de Caen': 1, 'Ville de Firminy': 1, 'Testers': 1, 'Keolis Bus Verts': 1, 'Syndicat Mixte Interdépartemental de la Vallée de la Lèze': 1, \"Communauté d'agglomération du grand Gueret\": 1, \"Etablissement public d'aménagement Bordeaux Euratlantique\": 1, 'IDEFHI': 1, \"Centre Intercommunal d'Action Sociale Privas Centre Ardèche\": 1, 'Syndicat mixte Atoumod': 1, 'Aeroport Paris-Beauvais  // SAGEB': 1, 'Eurolines SA': 1, 'org-testmarc': 1, 'MAIRIE DE LAMASTRE': 1, 'ALTYS TECHNOLOGIES': 1, 'BlaBlaBus-OUIBUS': 1, \"Etablissement Public Local d'Enseignement et de Formation Professionnelle\": 1, 'Syndicat Mixte du Pays Vesoul-Val de Saône': 1, \"Syndicat Mixte du Bassin d'Alès - Réseau NtecC\": 1, \"Horaires théoriques du réseau Vbus - Communauté d'Agglomération de Vesoul (GTFS)\": 1, 'Tarn-et-Garonne Numérique': 1, 'Métropole Rouen Normandie': 1, 'Ocean Plastic tracker': 1, \"Service Départemental Métropolitain d'Incendie et de Secours\": 1, 'MAIRIE DE GUILLESTRE': 1, 'Aiguillon Construction': 1, 'Praeludo': 1, 'ALTERNEO': 1, 'Communauté de Communes du Volvestre': 1, 'SPL Horizon Réunion': 1, 'AEDMAP France': 1, 'GIP Centre-Val de Loire e-Santé': 1, 'Saint-Loubès': 1, 'VILLE DE CHATOU': 1, 'Terrain-Construction.com': 1, 'Respire': 1, 'Grand Port Maritime de la Guadeloupe': 1, 'CEC-INFOG': 1, 'Agence Publique de Gestion Locale': 1, 'Mairie de Courcuire': 1, 'CA  de CASTRES - MAZAMET': 1, \"Communauté de Communes Coeur d'Ostrevent  \": 1, \"Service des Retraites de l'Etat\": 1, \"Communauté de Communes Beaucaire Terre d'Argence\": 1, 'VICHY COMMUNAUTE': 1, 'nam.R': 1, 'OPh de la Métropole du Grand Nancy': 1, 'Saint-Georges de Didonne': 1, 'Mairie de Saint-Just-Luzac': 1, 'mairie de Montendre': 1, \"Dolus d'Oléron\": 1, 'Saint-Palais-sur-Mer': 1, 'La Tremblade': 1, \"CENTRE COMMUNAL D'ACTION SOCIALE\": 1, \"Communauté de Communes des Sources de l'Orne\": 1, 'Ethique & Intégrité': 1, \"Communauté d'Agglomération Sarreguemines Confluences\": 1, 'RDV-Solidarités': 1, 'Paris La Défense': 1, 'Commune de Loisy': 1, 'association pour le soutien aux enfants et familles défavorisés, ': 1, 'Bassin de Pompey': 1, \"AJI Gestion pour l'Education\": 1, 'Commune de Doué-en-Anjou': 1, 'Flixbus France': 1, \"Commune d'Eguisheim\": 1, 'Commune de La Croix en Touraine': 1, 'Palmbus': 1, 'Tango': 1, \"SERVICE DEPARTEMENTAL D'INCENDIE ET DE SECOURS DES ARDENNES\": 1, \"Programme ANR Analyse diachronique de l'espace Parisien\": 1, 'UMR 7041 ArScAn - ArcheoFab': 1, 'Alto': 1, 'Mairie de Saint-Bonnet-le-Bourg': 1, 'Caisse nationale militaire de sécurité sociale': 1, 'Territoire de la Côte Ouest': 1, 'TRANSPORT URBAIN MENDOIS': 1, 'BYBUS': 1, 'Makina Corpus': 1, 'COMMUNE DE SAINT CYR SUR MER': 1, 'Agglomération Montargoise Et rives du loing': 1, 'Cmonbus': 1, 'Commune de Maubeuge': 1, 'ASTROBUS': 1, 'ANTIN Résidences': 1, 'Syndicat Couserans Service public': 1, 'Transport en Autunois': 1, 'Parc national du Mercantour': 1, \"Transp'Or - Pays de l'Or Agglomération\": 1, 'Commune de Beaufort-en-Anjou': 1, 'HO Bus': 1, \"mairie d'Eze\": 1, \"Direction des Achats de l'État\": 1, 'Mairie de Neuilly sur Marne': 1, 'COMMUNE DE VARENNES JARCY': 1, 'Les Fées Bohèmes': 1, \"Communauté d'Agglomération de la Région Dieppoise - Dieppe-Maritime\": 1, 'Communauté de communes de la Terre des 2 caps': 1, 'Mairie de Lampertheim': 1, 'Département de l\\x92Aisne': 1, 'Géo Vendée': 1, 'Sankéo': 1, 'Le BUS (CC B PAM)': 1, 'Conseil départemental de Seine-et-Marne': 1, 'Avicca': 1, 'Communauté Urbaine de Dunkerque / Réseau Dk Bus': 1, \"RITMO - réseau de transport de la Communauté d'agglomération de Haguenau\": 1, 'GIP Maximilien': 1, \"Chambre d'agriculture de la Haute-Garonne\": 1, 'Mâconnais Beaujolais Agglomération': 1, 'Twisto': 1, 'Mairie de Champoux': 1, \"TCAT - Transports en Commun de l'Agglomération Troyenne\": 1, 'Bus urbains thononais': 1, \"Communauté d'Agglomération Territoires Vendômois\": 1, 'Tallis': 1, 'SMAEP VIENNE BRIANCE GORRE': 1, \"Syndicat Intercommunal de Transport Urbain Tout'enbus\": 1, \"Journal de l'assurance \": 1, \"Fédération Départementale d'Energie de la Somme\": 1, \"Communauté d'Agglomération Beaune Côte et Sud\": 1, 'Agence Régionale de Santé Île-de-France': 1, \"COMMUNAUTE DE COMMUNES DU BASSIN D'AUBENAS\": 1, 'GéoCompiégnois': 1, \"Communauté d'Agglomération de l'Auxerrois\": 1, 'Commune de Sartrouville': 1, 'Sète Agglopole Méditerranée': 1, 'Trainline': 1, 'achatpublic.com': 1, 'Commune de Saint-Laurent-Nouan': 1, 'Ondéa - COMPAGNIE DE TRANSPORT DU LAC DU BOURGET-CTLB': 1, 'Commune de Herrlisheim': 1, 'Communauté de communes du Pays Rhénan': 1, 'Commune de Château-Renault': 1, 'Ville de Bron': 1, 'SIVOS NEUVILLE YVERSAY': 1, 'Commune de NEUVILLE DE POITOU': 1, 'CA PAYS FOIX-VARILHES': 1, 'Communauté de Communes Sarrebourg Moselle Sud': 1, 'Ville Vierzon': 1, 'Sibra': 1, 'Syndicat Mixte du SCoT de la Haute Gironde - Blaye Estuaire': 1, 'Ville de Caudry': 1, 'LYCEE JEAN PAUL DE ROCCA SERRA': 1, 'Communauté de Communes de la Plaine Jurassienne': 1, 'BlaBlaCar': 1, 'ATLINE SERVICES': 1, 'CD 54': 1, 'Direction départementale des Finances publiques des Hauts-de-Seine': 1, 'SYNAPSE ENTREPRISES': 1, 'LAVAL Agglomération': 1, 'Syndicat Mixte du Pays de la Haute Gironde ': 1, 'COMMUNE DE FONTENOY LE CHATEAU': 1, \"Communauté d'Agglomération Rochefort Océan\": 1, 'Lorem ipsum': 1, 'Communauté d\\'Agglomération \"Saint-Lô Agglo\"': 1, 'Durance Luberon Verdon Agglomération': 1, 'AVENUE WEB SYSTEMES': 1, \"Etablissement Public Médico-Social d'Amiens\": 1, 'Ecole Centrale de Lyon': 1, 'Mairie de Venelles': 1, 'Communauté Urbaine du Grand Reims': 1, 'Keolis Menton Riviera': 1, \"Syndicat Mixte de l'Argens\": 1, 'Commune de Fégréac': 1, 'COMMUNE DE PETIT CAUX': 1, \"Baïa - Réseau de transports du Sud Bassin d'Arcachon\": 1, 'Centre Pompidou-Metz': 1, 'Klekoon': 1, 'FranceLoire': 1, 'SA COOP PRODUCTION HLM LA RUCHE HABITAT': 1, \"  L'école supérieure de l'éducation nationale, de l'enseignement supérieur et de la recherche\": 1, \"Communauté d'Agglomération Hérault Méditerranée\": 1, \"Communauté d'Agglomération Dracénoise\": 1, 'Commune de Saint-Maurice-de-Beynost': 1, 'COLLEGE OLYMPE DE GOUGES': 1, \"Service Départemental d'Incendie et de Secours de la Seine-Maritime\": 1, 'Syndicat de la Loire Aval': 1, 'Mairie de Laimont': 1, \"Communauté d'Agglomération de Melun Val de Seine\": 1, \"Laboratoire Central de Surveillance de la Qualité de l'Air\": 1, \"Agence de l'eau Artois-Picardie\": 1, 'SOWPROG': 1, 'Commune de Sainte-Marie': 1, 'Ville de Guémené Penfao': 1, 'Saint-Louis Agglomération_IZYBORNE': 1, 'COMMUNE DE PEILLAC': 1, 'Festival International de Mandoline de Castellar': 1, 'Ville de Brie Comte Robert': 1, 'Métropole Toulon Provence Méditerranée': 1, 'wpd': 1, 'IONITY GmbH': 1, 'La FABrique des MOBilités': 1, \"La Chapelle d'Armentières\": 1, 'OpenRadiation': 1, '#dataFin': 1, 'e-charge50': 1, \"Communauté d'agglomération Cannes Lérins\": 1, \"Métropole d'Aix-Marseille-Provence\": 1, 'Syndicat Départemental des Energies de la Meuse': 1, \"Agence d'Urbanisme de Développement et Prospective de la Région de Reims\": 1, 'CDAD': 1, \"Syndicat Intercommunal d'Energie de Côte d'Or \": 1, 'OpenFisca': 1, 'Mairie de Sainte-Adresse': 1, 'Syndicat Mixte Orge Yvette sur Seine': 1, \"festival international de films d'écoles\": 1, 'Geowebservice': 1, 'www.opalesurfcasting.net': 1, 'Commune de Saint-Apollinaire ': 1, 'Losali': 1, 'Institut Supérieur des Métiers': 1, 'CTS - Compagnie des transports Strasbourgeois': 1, 'Greenpeace France ': 1, 'SETRAM': 1, 'Saint-Brieuc Armor Agglomération': 1, 'Conseil départemental des deux-sèvres': 1, \"Ville d'Aix-les-Bains\": 1, 'COMMUNE CHATEAU-ARNOUX-SAINT-AUBAN': 1, \"Ville Le Passage d'Agen\": 1, 'Communauté de Communes Terres des Confluences': 1, 'Métropole du Grand Nancy': 1, \"Mairie d'Aire-sur-Adour\": 1, \"Conseil Départemental de l'Ariège\": 1, 'Ville de Dreux': 1, 'Pauline Pied': 1, 'Saint-Louis Agglomération': 1, 'MeilleureCopro': 1, \"Coeur d'Essonne Agglomération\": 1, 'TECNIPASS': 1, 'Ville de Noyal-Pontivy': 1, 'Fresenius Medical Care Deutschland GmbH': 1, \"SYndicat Départemental d'Energie de Saône et Loire\": 1, 'Geojob Compagnon': 1, 'Communauté de Communes Vitry, Champagne et Der': 1, 'MAIRIE DE ROQUEFORT-LA BEDOULE': 1, 'SDE04': 1, 'DAAF de GUYANE': 1, \"Département de l'Aube\": 1, 'Mairie de St NICOLAS DE REDON': 1, \"Syndicat Départemental d'Energie de l'Aube\": 1, 'MAIRIE DE PLESSÉ': 1, \"Mairie d'ALLAIRE\": 1, 'Région Bourgogne-Franche-Comté': 1, 'DREAL Haute-Normandie': 1, 'Le Figaro': 1, 'Département de la Charente-Maritime': 1, 'azerty<\\'\">': 1, \"Syndicat Départemental d'Energies de l'Indre\": 1, 'Département de la Vienne': 1, 'ATOUT FRANCE - Agence de développement touristique de la France': 1, 'Mairie de Baraqueville': 1, 'Délégation régionale au numérique (SGAR Occitanie)': 1, 'OpenDataLab': 1, 'DRAAF GRAND EST': 1, 'Conseil départemental de la somme': 1, 'Participation Citadine à l\\x92observation de l\\x92Environnement': 1, 'Ville du Pradet': 1, 'flaner bouger': 1, 'Université Paris 13': 1, \"Syndicat Départemental d'Energies de la Drôme\": 1, \"Syndicat des énergies et de l'aménagement numérique de la Haute-Savoie\": 1, 'Mairie de Cugnaux': 1, \"Syndicat intercommunal de distribution d'énergie de Loir-et-Cher\": 1, \"Syndicat intercommunal d'énergie d'Indre-et-Loire\": 1, 'Ville de Beauvais': 1, 'Groupe Casino': 1, 'Global Contact': 1, 'Syndicat Intercommunal des Energies du département de la Loire': 1, 'Réseau SURF': 1, \"Institut National de l'Environnement Industriel et des Risques\": 1, 'DEAL La Réunion': 1, 'DREAL Centre-Val de Loire': 1, 'Direction Départementale et des Territoires du Cantal': 1, 'RunningMap.org': 1, 'De Main en Main': 1, 'Fédération Nationale de Protection Civile': 1, 'Communuaté de Communes du Frontonnais': 1, 'Laboratoire Théâtres & Médiations Numériques': 1, \"Communauté d'Agglomération de Rambouillet Territoires\": 1, 'Transparency International ': 1, 'Infra Gestion': 1, 'Agence nationale pour la gestion des déchets radioactifs': 1, \"Union des Secteurs d'Energie du Département de l'Aisne\": 1, 'Change.org': 1, 'C2SOL': 1, 'SOREGIES': 1, \"Syndicat Départemental d'Energies de la Dordogne\": 1, 'Groupe Kintip': 1, 'Orange': 1, 'AFNIC': 1, 'MALTE BRUN': 1, 'Autorité des marchés financiers': 1, \"Syndicat Départemental d'Energie du Cher\": 1, 'ABSOLOM DESIGN': 1, 'Vice-rectorat de la Polynésie française': 1, 'le.taxi': 1, 'META Information Technology': 1, 'Université Paris-Est Marne-La-Vallée': 1, \"Autolib' Métropole\": 1, 'DRAAF Poitou-Charentes': 1, \"Syndicat de la presse indépendante d'information en ligne\": 1, 'Master 2 Droit du Numérique Entreprise/ Administration ': 1, 'Mairie de Créteil': 1, \"Home'n'go\": 1, 'Base Adresse Nationale': 1, 'Terrains.fr': 1, 'SyDEV': 1, \"Polytech'Tours\": 1, 'GAIAGO': 1, 'La Cryobanque Nationale': 1, \"Comité Départemental du Tourisme de l'Aube\": 1, 'réseau Sentinelles': 1, 'Retraite Plus': 1, 'CNR': 1, 'Renault sas': 1, 'GROUPE EGR': 1, 'Goldbroker': 1, 'Mapado': 1, \"Agence Nationale pour l'Amélioration des Conditions de Travail (ANACT)\": 1, 'Archipel Molène': 1, '31/12/2012': 1, 'Institut de radioprotection et de sûreté nucléaire (IRSN)': 1, 'Parlement européen': 1, \"Agence Nationale d'Appui à la Performance des établissements de santé et médico-sociaux (ANAP)\": 1, 'Institut des politiques publiques (IPP)': 1, 'Commission d\\x92accès aux documents administratifs (CADA)': 1, 'Géoclip': 1, 'Un sur Quatre': 1, 'Deuxième labo': 1, 'VroomVroom.fr': 1, 'Autorité de Régulation des Jeux en Ligne (ARJEL)': 1, 'Office de tourisme So Toulouse': 1, 'Destinéo': 1, 'Arts vivants en Ille-et-Vilaine': 1, 'Association Trans Musicales': 1, 'Ouest France': 1, 'Open Data Nord-Pas de Calais': 1, 'OpenData Oise': 1, 'Réseau Sitra': 1, 'Établissement public de la Réunion des musées nationaux et du Grand Palais des Champs-Élysées': 1, 'Musée du Louvre': 1, \"Théâtre national de l'Odéon, Théâtre de l'Europe\": 1, 'Établissement public du château, du musée et du domaine national de Versailles': 1, 'Cité de la musique': 1, 'Institut national de la jeunesse et de l\\x92éducation populaire': 1, 'Autorité de contrôle prudentiel': 1, 'WWF': 1, 'Easter-eggs': 1, 'Commune de Saint-André-de-Cubzac': 1, 'Gironde numérique': 1, 'Fabrique Spinoza': 1, 'Cap sciences': 1, 'Aquitaine Europe Communication': 1, 'IJBA': 1, 'Le RIF': 1, 'Fédération Nationale des Bistrots de Pays': 1, 'DRIEA, Sit@del 2': 1, 'Keolis': 1, 'Fédération des laboureurs en herbe': 1, \"Conseil Supérieur de l'Audiovisuel\": 1, \"Agence nationale pour la cohésion sociale et l'égalité des chances\": 1, 'Secrétariat général': 1, 'Saint-Maur des Fossés': 1})\n"
     ]
    }
   ],
   "source": [
    "import collections\n",
    "counter=collections.Counter(df1['Column4'])\n",
    "print(counter)"
   ]
  },
  {
   "cell_type": "code",
   "execution_count": 17,
   "metadata": {},
   "outputs": [],
   "source": [
    "producteurs_pd=pd.DataFrame(producteurs)"
   ]
  },
  {
   "cell_type": "code",
   "execution_count": 18,
   "metadata": {},
   "outputs": [],
   "source": [
    "producteurs_pd.to_pickle('../../data/prod_set.pkl')"
   ]
  },
  {
   "cell_type": "code",
   "execution_count": 19,
   "metadata": {},
   "outputs": [],
   "source": [
    "df_prod=df[['Column4', 'minuscules.1']]"
   ]
  },
  {
   "cell_type": "code",
   "execution_count": 28,
   "metadata": {},
   "outputs": [],
   "source": [
    "df_prod=df_prod.astype('str')"
   ]
  },
  {
   "cell_type": "code",
   "execution_count": 30,
   "metadata": {},
   "outputs": [],
   "source": [
    "df_prod=df_prod.groupby(['Column4'], as_index = False).agg({'minuscules.1': ' '.join})"
   ]
  },
  {
   "cell_type": "code",
   "execution_count": 43,
   "metadata": {},
   "outputs": [],
   "source": [
    "df_prod_np=df_prod.to_numpy()"
   ]
  },
  {
   "cell_type": "code",
   "execution_count": 47,
   "metadata": {},
   "outputs": [],
   "source": [
    "df_prod.to_pickle('../../data/df_prod_tags.pkl')"
   ]
  },
  {
   "cell_type": "code",
   "execution_count": 45,
   "metadata": {},
   "outputs": [
    {
     "data": {
      "text/plain": [
       "array([\"Agence Nationale d'Appui à la Performance des établissements de santé et médico-sociaux (ANAP)\",\n",
       "       'clinique,comparaison,etablissement-de-sante,finances,hopital,hospidiag,indicateurs,medecine,medecine-chirurgie-obstetrique,organisation-des-soins,performance,pratiques-professionnelles,qualite-des-soins,ressources-humaines'],\n",
       "      dtype=object)"
      ]
     },
     "execution_count": 45,
     "metadata": {},
     "output_type": "execute_result"
    }
   ],
   "source": [
    "df_prod_np[25]"
   ]
  },
  {
   "cell_type": "code",
   "execution_count": null,
   "metadata": {},
   "outputs": [],
   "source": [
    "np.load('.')"
   ]
  },
  {
   "cell_type": "markdown",
   "metadata": {},
   "source": [
    "#### Merge with locs col"
   ]
  },
  {
   "cell_type": "code",
   "execution_count": 4,
   "metadata": {},
   "outputs": [],
   "source": [
    "locs=pd.read_pickle('../Scripts/FOLDER/locs.pkl')"
   ]
  },
  {
   "cell_type": "code",
   "execution_count": 11,
   "metadata": {},
   "outputs": [
    {
     "ename": "MemoryError",
     "evalue": "Unable to allocate 13.7 GiB for an array with shape (42837, 42837) and data type float64",
     "output_type": "error",
     "traceback": [
      "\u001b[0;31m---------------------------------------------------------------------------\u001b[0m",
      "\u001b[0;31mMemoryError\u001b[0m                               Traceback (most recent call last)",
      "\u001b[0;32m<ipython-input-11-8ffe7b279082>\u001b[0m in \u001b[0;36m<module>\u001b[0;34m\u001b[0m\n\u001b[0;32m----> 1\u001b[0;31m \u001b[0mdf2\u001b[0m\u001b[0;34m.\u001b[0m\u001b[0mappend\u001b[0m\u001b[0;34m(\u001b[0m\u001b[0mlocs\u001b[0m\u001b[0;34m[\u001b[0m\u001b[0;34m'ncc'\u001b[0m\u001b[0;34m]\u001b[0m\u001b[0;34m)\u001b[0m\u001b[0;34m\u001b[0m\u001b[0;34m\u001b[0m\u001b[0m\n\u001b[0m",
      "\u001b[0;32m~/miniconda3/lib/python3.7/site-packages/pandas/core/frame.py\u001b[0m in \u001b[0;36mappend\u001b[0;34m(self, other, ignore_index, verify_integrity, sort)\u001b[0m\n\u001b[1;32m   7064\u001b[0m             )\n\u001b[1;32m   7065\u001b[0m             \u001b[0;32mif\u001b[0m \u001b[0;32mnot\u001b[0m \u001b[0mself\u001b[0m\u001b[0;34m.\u001b[0m\u001b[0mcolumns\u001b[0m\u001b[0;34m.\u001b[0m\u001b[0mequals\u001b[0m\u001b[0;34m(\u001b[0m\u001b[0mcombined_columns\u001b[0m\u001b[0;34m)\u001b[0m\u001b[0;34m:\u001b[0m\u001b[0;34m\u001b[0m\u001b[0;34m\u001b[0m\u001b[0m\n\u001b[0;32m-> 7066\u001b[0;31m                 \u001b[0mself\u001b[0m \u001b[0;34m=\u001b[0m \u001b[0mself\u001b[0m\u001b[0;34m.\u001b[0m\u001b[0mreindex\u001b[0m\u001b[0;34m(\u001b[0m\u001b[0mcolumns\u001b[0m\u001b[0;34m=\u001b[0m\u001b[0mcombined_columns\u001b[0m\u001b[0;34m)\u001b[0m\u001b[0;34m\u001b[0m\u001b[0;34m\u001b[0m\u001b[0m\n\u001b[0m\u001b[1;32m   7067\u001b[0m         \u001b[0;32melif\u001b[0m \u001b[0misinstance\u001b[0m\u001b[0;34m(\u001b[0m\u001b[0mother\u001b[0m\u001b[0;34m,\u001b[0m \u001b[0mlist\u001b[0m\u001b[0;34m)\u001b[0m\u001b[0;34m:\u001b[0m\u001b[0;34m\u001b[0m\u001b[0;34m\u001b[0m\u001b[0m\n\u001b[1;32m   7068\u001b[0m             \u001b[0;32mif\u001b[0m \u001b[0;32mnot\u001b[0m \u001b[0mother\u001b[0m\u001b[0;34m:\u001b[0m\u001b[0;34m\u001b[0m\u001b[0;34m\u001b[0m\u001b[0m\n",
      "\u001b[0;32m~/miniconda3/lib/python3.7/site-packages/pandas/util/_decorators.py\u001b[0m in \u001b[0;36mwrapper\u001b[0;34m(*args, **kwargs)\u001b[0m\n\u001b[1;32m    225\u001b[0m         \u001b[0;34m@\u001b[0m\u001b[0mwraps\u001b[0m\u001b[0;34m(\u001b[0m\u001b[0mfunc\u001b[0m\u001b[0;34m)\u001b[0m\u001b[0;34m\u001b[0m\u001b[0;34m\u001b[0m\u001b[0m\n\u001b[1;32m    226\u001b[0m         \u001b[0;32mdef\u001b[0m \u001b[0mwrapper\u001b[0m\u001b[0;34m(\u001b[0m\u001b[0;34m*\u001b[0m\u001b[0margs\u001b[0m\u001b[0;34m,\u001b[0m \u001b[0;34m**\u001b[0m\u001b[0mkwargs\u001b[0m\u001b[0;34m)\u001b[0m \u001b[0;34m->\u001b[0m \u001b[0mCallable\u001b[0m\u001b[0;34m[\u001b[0m\u001b[0;34m...\u001b[0m\u001b[0;34m,\u001b[0m \u001b[0mAny\u001b[0m\u001b[0;34m]\u001b[0m\u001b[0;34m:\u001b[0m\u001b[0;34m\u001b[0m\u001b[0;34m\u001b[0m\u001b[0m\n\u001b[0;32m--> 227\u001b[0;31m             \u001b[0;32mreturn\u001b[0m \u001b[0mfunc\u001b[0m\u001b[0;34m(\u001b[0m\u001b[0;34m*\u001b[0m\u001b[0margs\u001b[0m\u001b[0;34m,\u001b[0m \u001b[0;34m**\u001b[0m\u001b[0mkwargs\u001b[0m\u001b[0;34m)\u001b[0m\u001b[0;34m\u001b[0m\u001b[0;34m\u001b[0m\u001b[0m\n\u001b[0m\u001b[1;32m    228\u001b[0m \u001b[0;34m\u001b[0m\u001b[0m\n\u001b[1;32m    229\u001b[0m         \u001b[0mkind\u001b[0m \u001b[0;34m=\u001b[0m \u001b[0minspect\u001b[0m\u001b[0;34m.\u001b[0m\u001b[0mParameter\u001b[0m\u001b[0;34m.\u001b[0m\u001b[0mPOSITIONAL_OR_KEYWORD\u001b[0m\u001b[0;34m\u001b[0m\u001b[0;34m\u001b[0m\u001b[0m\n",
      "\u001b[0;32m~/miniconda3/lib/python3.7/site-packages/pandas/core/frame.py\u001b[0m in \u001b[0;36mreindex\u001b[0;34m(self, *args, **kwargs)\u001b[0m\n\u001b[1;32m   3854\u001b[0m         \u001b[0mkwargs\u001b[0m\u001b[0;34m.\u001b[0m\u001b[0mpop\u001b[0m\u001b[0;34m(\u001b[0m\u001b[0;34m\"axis\"\u001b[0m\u001b[0;34m,\u001b[0m \u001b[0;32mNone\u001b[0m\u001b[0;34m)\u001b[0m\u001b[0;34m\u001b[0m\u001b[0;34m\u001b[0m\u001b[0m\n\u001b[1;32m   3855\u001b[0m         \u001b[0mkwargs\u001b[0m\u001b[0;34m.\u001b[0m\u001b[0mpop\u001b[0m\u001b[0;34m(\u001b[0m\u001b[0;34m\"labels\"\u001b[0m\u001b[0;34m,\u001b[0m \u001b[0;32mNone\u001b[0m\u001b[0;34m)\u001b[0m\u001b[0;34m\u001b[0m\u001b[0;34m\u001b[0m\u001b[0m\n\u001b[0;32m-> 3856\u001b[0;31m         \u001b[0;32mreturn\u001b[0m \u001b[0msuper\u001b[0m\u001b[0;34m(\u001b[0m\u001b[0;34m)\u001b[0m\u001b[0;34m.\u001b[0m\u001b[0mreindex\u001b[0m\u001b[0;34m(\u001b[0m\u001b[0;34m**\u001b[0m\u001b[0mkwargs\u001b[0m\u001b[0;34m)\u001b[0m\u001b[0;34m\u001b[0m\u001b[0;34m\u001b[0m\u001b[0m\n\u001b[0m\u001b[1;32m   3857\u001b[0m \u001b[0;34m\u001b[0m\u001b[0m\n\u001b[1;32m   3858\u001b[0m     def drop(\n",
      "\u001b[0;32m~/miniconda3/lib/python3.7/site-packages/pandas/core/generic.py\u001b[0m in \u001b[0;36mreindex\u001b[0;34m(self, *args, **kwargs)\u001b[0m\n\u001b[1;32m   4542\u001b[0m         \u001b[0;31m# perform the reindex on the axes\u001b[0m\u001b[0;34m\u001b[0m\u001b[0;34m\u001b[0m\u001b[0;34m\u001b[0m\u001b[0m\n\u001b[1;32m   4543\u001b[0m         return self._reindex_axes(\n\u001b[0;32m-> 4544\u001b[0;31m             \u001b[0maxes\u001b[0m\u001b[0;34m,\u001b[0m \u001b[0mlevel\u001b[0m\u001b[0;34m,\u001b[0m \u001b[0mlimit\u001b[0m\u001b[0;34m,\u001b[0m \u001b[0mtolerance\u001b[0m\u001b[0;34m,\u001b[0m \u001b[0mmethod\u001b[0m\u001b[0;34m,\u001b[0m \u001b[0mfill_value\u001b[0m\u001b[0;34m,\u001b[0m \u001b[0mcopy\u001b[0m\u001b[0;34m\u001b[0m\u001b[0;34m\u001b[0m\u001b[0m\n\u001b[0m\u001b[1;32m   4545\u001b[0m         ).__finalize__(self)\n\u001b[1;32m   4546\u001b[0m \u001b[0;34m\u001b[0m\u001b[0m\n",
      "\u001b[0;32m~/miniconda3/lib/python3.7/site-packages/pandas/core/frame.py\u001b[0m in \u001b[0;36m_reindex_axes\u001b[0;34m(self, axes, level, limit, tolerance, method, fill_value, copy)\u001b[0m\n\u001b[1;32m   3736\u001b[0m         \u001b[0;32mif\u001b[0m \u001b[0mcolumns\u001b[0m \u001b[0;32mis\u001b[0m \u001b[0;32mnot\u001b[0m \u001b[0;32mNone\u001b[0m\u001b[0;34m:\u001b[0m\u001b[0;34m\u001b[0m\u001b[0;34m\u001b[0m\u001b[0m\n\u001b[1;32m   3737\u001b[0m             frame = frame._reindex_columns(\n\u001b[0;32m-> 3738\u001b[0;31m                 \u001b[0mcolumns\u001b[0m\u001b[0;34m,\u001b[0m \u001b[0mmethod\u001b[0m\u001b[0;34m,\u001b[0m \u001b[0mcopy\u001b[0m\u001b[0;34m,\u001b[0m \u001b[0mlevel\u001b[0m\u001b[0;34m,\u001b[0m \u001b[0mfill_value\u001b[0m\u001b[0;34m,\u001b[0m \u001b[0mlimit\u001b[0m\u001b[0;34m,\u001b[0m \u001b[0mtolerance\u001b[0m\u001b[0;34m\u001b[0m\u001b[0;34m\u001b[0m\u001b[0m\n\u001b[0m\u001b[1;32m   3739\u001b[0m             )\n\u001b[1;32m   3740\u001b[0m \u001b[0;34m\u001b[0m\u001b[0m\n",
      "\u001b[0;32m~/miniconda3/lib/python3.7/site-packages/pandas/core/frame.py\u001b[0m in \u001b[0;36m_reindex_columns\u001b[0;34m(self, new_columns, method, copy, level, fill_value, limit, tolerance)\u001b[0m\n\u001b[1;32m   3784\u001b[0m             \u001b[0mcopy\u001b[0m\u001b[0;34m=\u001b[0m\u001b[0mcopy\u001b[0m\u001b[0;34m,\u001b[0m\u001b[0;34m\u001b[0m\u001b[0;34m\u001b[0m\u001b[0m\n\u001b[1;32m   3785\u001b[0m             \u001b[0mfill_value\u001b[0m\u001b[0;34m=\u001b[0m\u001b[0mfill_value\u001b[0m\u001b[0;34m,\u001b[0m\u001b[0;34m\u001b[0m\u001b[0;34m\u001b[0m\u001b[0m\n\u001b[0;32m-> 3786\u001b[0;31m             \u001b[0mallow_dups\u001b[0m\u001b[0;34m=\u001b[0m\u001b[0;32mFalse\u001b[0m\u001b[0;34m,\u001b[0m\u001b[0;34m\u001b[0m\u001b[0;34m\u001b[0m\u001b[0m\n\u001b[0m\u001b[1;32m   3787\u001b[0m         )\n\u001b[1;32m   3788\u001b[0m \u001b[0;34m\u001b[0m\u001b[0m\n",
      "\u001b[0;32m~/miniconda3/lib/python3.7/site-packages/pandas/core/generic.py\u001b[0m in \u001b[0;36m_reindex_with_indexers\u001b[0;34m(self, reindexers, fill_value, copy, allow_dups)\u001b[0m\n\u001b[1;32m   4611\u001b[0m                 \u001b[0mfill_value\u001b[0m\u001b[0;34m=\u001b[0m\u001b[0mfill_value\u001b[0m\u001b[0;34m,\u001b[0m\u001b[0;34m\u001b[0m\u001b[0;34m\u001b[0m\u001b[0m\n\u001b[1;32m   4612\u001b[0m                 \u001b[0mallow_dups\u001b[0m\u001b[0;34m=\u001b[0m\u001b[0mallow_dups\u001b[0m\u001b[0;34m,\u001b[0m\u001b[0;34m\u001b[0m\u001b[0;34m\u001b[0m\u001b[0m\n\u001b[0;32m-> 4613\u001b[0;31m                 \u001b[0mcopy\u001b[0m\u001b[0;34m=\u001b[0m\u001b[0mcopy\u001b[0m\u001b[0;34m,\u001b[0m\u001b[0;34m\u001b[0m\u001b[0;34m\u001b[0m\u001b[0m\n\u001b[0m\u001b[1;32m   4614\u001b[0m             )\n\u001b[1;32m   4615\u001b[0m \u001b[0;34m\u001b[0m\u001b[0m\n",
      "\u001b[0;32m~/miniconda3/lib/python3.7/site-packages/pandas/core/internals/managers.py\u001b[0m in \u001b[0;36mreindex_indexer\u001b[0;34m(self, new_axis, indexer, axis, fill_value, allow_dups, copy)\u001b[0m\n\u001b[1;32m   1255\u001b[0m \u001b[0;34m\u001b[0m\u001b[0m\n\u001b[1;32m   1256\u001b[0m         \u001b[0;32mif\u001b[0m \u001b[0maxis\u001b[0m \u001b[0;34m==\u001b[0m \u001b[0;36m0\u001b[0m\u001b[0;34m:\u001b[0m\u001b[0;34m\u001b[0m\u001b[0;34m\u001b[0m\u001b[0m\n\u001b[0;32m-> 1257\u001b[0;31m             \u001b[0mnew_blocks\u001b[0m \u001b[0;34m=\u001b[0m \u001b[0mself\u001b[0m\u001b[0;34m.\u001b[0m\u001b[0m_slice_take_blocks_ax0\u001b[0m\u001b[0;34m(\u001b[0m\u001b[0mindexer\u001b[0m\u001b[0;34m,\u001b[0m \u001b[0mfill_tuple\u001b[0m\u001b[0;34m=\u001b[0m\u001b[0;34m(\u001b[0m\u001b[0mfill_value\u001b[0m\u001b[0;34m,\u001b[0m\u001b[0;34m)\u001b[0m\u001b[0;34m)\u001b[0m\u001b[0;34m\u001b[0m\u001b[0;34m\u001b[0m\u001b[0m\n\u001b[0m\u001b[1;32m   1258\u001b[0m         \u001b[0;32melse\u001b[0m\u001b[0;34m:\u001b[0m\u001b[0;34m\u001b[0m\u001b[0;34m\u001b[0m\u001b[0m\n\u001b[1;32m   1259\u001b[0m             new_blocks = [\n",
      "\u001b[0;32m~/miniconda3/lib/python3.7/site-packages/pandas/core/internals/managers.py\u001b[0m in \u001b[0;36m_slice_take_blocks_ax0\u001b[0;34m(self, slice_or_indexer, fill_tuple)\u001b[0m\n\u001b[1;32m   1331\u001b[0m \u001b[0;34m\u001b[0m\u001b[0m\n\u001b[1;32m   1332\u001b[0m                 blocks.append(\n\u001b[0;32m-> 1333\u001b[0;31m                     \u001b[0mself\u001b[0m\u001b[0;34m.\u001b[0m\u001b[0m_make_na_block\u001b[0m\u001b[0;34m(\u001b[0m\u001b[0mplacement\u001b[0m\u001b[0;34m=\u001b[0m\u001b[0mmgr_locs\u001b[0m\u001b[0;34m,\u001b[0m \u001b[0mfill_value\u001b[0m\u001b[0;34m=\u001b[0m\u001b[0mfill_value\u001b[0m\u001b[0;34m)\u001b[0m\u001b[0;34m\u001b[0m\u001b[0;34m\u001b[0m\u001b[0m\n\u001b[0m\u001b[1;32m   1334\u001b[0m                 )\n\u001b[1;32m   1335\u001b[0m             \u001b[0;32melse\u001b[0m\u001b[0;34m:\u001b[0m\u001b[0;34m\u001b[0m\u001b[0;34m\u001b[0m\u001b[0m\n",
      "\u001b[0;32m~/miniconda3/lib/python3.7/site-packages/pandas/core/internals/managers.py\u001b[0m in \u001b[0;36m_make_na_block\u001b[0;34m(self, placement, fill_value)\u001b[0m\n\u001b[1;32m   1367\u001b[0m \u001b[0;34m\u001b[0m\u001b[0m\n\u001b[1;32m   1368\u001b[0m         \u001b[0mdtype\u001b[0m\u001b[0;34m,\u001b[0m \u001b[0mfill_value\u001b[0m \u001b[0;34m=\u001b[0m \u001b[0minfer_dtype_from_scalar\u001b[0m\u001b[0;34m(\u001b[0m\u001b[0mfill_value\u001b[0m\u001b[0;34m)\u001b[0m\u001b[0;34m\u001b[0m\u001b[0;34m\u001b[0m\u001b[0m\n\u001b[0;32m-> 1369\u001b[0;31m         \u001b[0mblock_values\u001b[0m \u001b[0;34m=\u001b[0m \u001b[0mnp\u001b[0m\u001b[0;34m.\u001b[0m\u001b[0mempty\u001b[0m\u001b[0;34m(\u001b[0m\u001b[0mblock_shape\u001b[0m\u001b[0;34m,\u001b[0m \u001b[0mdtype\u001b[0m\u001b[0;34m=\u001b[0m\u001b[0mdtype\u001b[0m\u001b[0;34m)\u001b[0m\u001b[0;34m\u001b[0m\u001b[0;34m\u001b[0m\u001b[0m\n\u001b[0m\u001b[1;32m   1370\u001b[0m         \u001b[0mblock_values\u001b[0m\u001b[0;34m.\u001b[0m\u001b[0mfill\u001b[0m\u001b[0;34m(\u001b[0m\u001b[0mfill_value\u001b[0m\u001b[0;34m)\u001b[0m\u001b[0;34m\u001b[0m\u001b[0;34m\u001b[0m\u001b[0m\n\u001b[1;32m   1371\u001b[0m         \u001b[0;32mreturn\u001b[0m \u001b[0mmake_block\u001b[0m\u001b[0;34m(\u001b[0m\u001b[0mblock_values\u001b[0m\u001b[0;34m,\u001b[0m \u001b[0mplacement\u001b[0m\u001b[0;34m=\u001b[0m\u001b[0mplacement\u001b[0m\u001b[0;34m)\u001b[0m\u001b[0;34m\u001b[0m\u001b[0;34m\u001b[0m\u001b[0m\n",
      "\u001b[0;31mMemoryError\u001b[0m: Unable to allocate 13.7 GiB for an array with shape (42837, 42837) and data type float64"
     ]
    }
   ],
   "source": [
    "df2.append(locs['ncc'])"
   ]
  },
  {
   "cell_type": "code",
   "execution_count": 13,
   "metadata": {},
   "outputs": [],
   "source": [
    "df2['pred locs']=locs['ncc']"
   ]
  },
  {
   "cell_type": "code",
   "execution_count": 15,
   "metadata": {},
   "outputs": [],
   "source": [
    "df2.to_csv('../../data/Catalogue_locs.csv')"
   ]
  },
  {
   "cell_type": "code",
   "execution_count": 18,
   "metadata": {},
   "outputs": [
    {
     "data": {
      "text/html": [
       "<div>\n",
       "<style scoped>\n",
       "    .dataframe tbody tr th:only-of-type {\n",
       "        vertical-align: middle;\n",
       "    }\n",
       "\n",
       "    .dataframe tbody tr th {\n",
       "        vertical-align: top;\n",
       "    }\n",
       "\n",
       "    .dataframe thead th {\n",
       "        text-align: right;\n",
       "    }\n",
       "</style>\n",
       "<table border=\"1\" class=\"dataframe\">\n",
       "  <thead>\n",
       "    <tr style=\"text-align: right;\">\n",
       "      <th></th>\n",
       "      <th>id</th>\n",
       "      <th>title</th>\n",
       "      <th>slug</th>\n",
       "      <th>organization</th>\n",
       "      <th>description</th>\n",
       "      <th>spatial.granularity</th>\n",
       "      <th>spatial.zones</th>\n",
       "      <th>tags</th>\n",
       "      <th>Unnamed: 8</th>\n",
       "      <th>Unnamed: 9</th>\n",
       "      <th>...</th>\n",
       "      <th>Unnamed: 14</th>\n",
       "      <th>Unnamed: 15</th>\n",
       "      <th>Unnamed: 16</th>\n",
       "      <th>Unnamed: 17</th>\n",
       "      <th>Unnamed: 18</th>\n",
       "      <th>Unnamed: 19</th>\n",
       "      <th>Unnamed: 20</th>\n",
       "      <th>Unnamed: 21</th>\n",
       "      <th>Unnamed: 22</th>\n",
       "      <th>pred locs</th>\n",
       "    </tr>\n",
       "  </thead>\n",
       "  <tbody>\n",
       "    <tr>\n",
       "      <th>0</th>\n",
       "      <td>5ef6c4b8cb925cf05ddd876a</td>\n",
       "      <td>Laboratoires d'analyses médicales VIHTEST</td>\n",
       "      <td>laboratoires-danalyses-medicales-vihtest</td>\n",
       "      <td>Mairie de Paris</td>\n",
       "      <td>**Jeu de données localisant les Laboratoire d'...</td>\n",
       "      <td>NaN</td>\n",
       "      <td>NaN</td>\n",
       "      <td>depistage,equipements,sante,services,social,vih</td>\n",
       "      <td>NaN</td>\n",
       "      <td>NaN</td>\n",
       "      <td>...</td>\n",
       "      <td>NaN</td>\n",
       "      <td>NaN</td>\n",
       "      <td>NaN</td>\n",
       "      <td>NaN</td>\n",
       "      <td>NaN</td>\n",
       "      <td>NaN</td>\n",
       "      <td>NaN</td>\n",
       "      <td>NaN</td>\n",
       "      <td>NaN</td>\n",
       "      <td>PARIS</td>\n",
       "    </tr>\n",
       "    <tr>\n",
       "      <th>1</th>\n",
       "      <td>5ef69a135ef68f28bfdd876a</td>\n",
       "      <td>2020-2026_Elus Grand Chambéry</td>\n",
       "      <td>2020-2026-elus-grand-chambery</td>\n",
       "      <td>Grand Chambéry</td>\n",
       "      <td>Ce jeu de données présente les **conseillers c...</td>\n",
       "      <td>NaN</td>\n",
       "      <td>NaN</td>\n",
       "      <td>administration,citoyennete,election,elu-e-s,ep...</td>\n",
       "      <td>NaN</td>\n",
       "      <td>NaN</td>\n",
       "      <td>...</td>\n",
       "      <td>NaN</td>\n",
       "      <td>NaN</td>\n",
       "      <td>NaN</td>\n",
       "      <td>NaN</td>\n",
       "      <td>NaN</td>\n",
       "      <td>NaN</td>\n",
       "      <td>NaN</td>\n",
       "      <td>NaN</td>\n",
       "      <td>NaN</td>\n",
       "      <td>CHAMBERY</td>\n",
       "    </tr>\n",
       "    <tr>\n",
       "      <th>2</th>\n",
       "      <td>5ef69a1328a6ea1e97dd876a</td>\n",
       "      <td>2020-2026_Elus communaux Grand Chambéry</td>\n",
       "      <td>2020-2026-elus-communaux-grand-chambery</td>\n",
       "      <td>Grand Chambéry</td>\n",
       "      <td>Ce jeu de données présente les conseillers mun...</td>\n",
       "      <td>NaN</td>\n",
       "      <td>NaN</td>\n",
       "      <td>administration,citoyennete,commune,election,el...</td>\n",
       "      <td>NaN</td>\n",
       "      <td>NaN</td>\n",
       "      <td>...</td>\n",
       "      <td>NaN</td>\n",
       "      <td>NaN</td>\n",
       "      <td>NaN</td>\n",
       "      <td>NaN</td>\n",
       "      <td>NaN</td>\n",
       "      <td>NaN</td>\n",
       "      <td>NaN</td>\n",
       "      <td>NaN</td>\n",
       "      <td>NaN</td>\n",
       "      <td>CHAMBERY</td>\n",
       "    </tr>\n",
       "    <tr>\n",
       "      <th>3</th>\n",
       "      <td>5ef68e8220f90f5d8ddd876a</td>\n",
       "      <td>Mon reseau mobile ARCEP - Zones blanches 4G da...</td>\n",
       "      <td>mon-reseau-mobile-arcep-zones-blanches-4g-data...</td>\n",
       "      <td>Collectivité de Corse</td>\n",
       "      <td>Ce jeu de données provient d'un service public...</td>\n",
       "      <td>NaN</td>\n",
       "      <td>NaN</td>\n",
       "      <td>infrastructures,telephone-mobile</td>\n",
       "      <td>NaN</td>\n",
       "      <td>NaN</td>\n",
       "      <td>...</td>\n",
       "      <td>NaN</td>\n",
       "      <td>NaN</td>\n",
       "      <td>NaN</td>\n",
       "      <td>NaN</td>\n",
       "      <td>NaN</td>\n",
       "      <td>NaN</td>\n",
       "      <td>NaN</td>\n",
       "      <td>NaN</td>\n",
       "      <td>NaN</td>\n",
       "      <td>CORSE</td>\n",
       "    </tr>\n",
       "    <tr>\n",
       "      <th>4</th>\n",
       "      <td>5ef68e82714cc9b811dd876a</td>\n",
       "      <td>Mon reseau mobile ARCEP - Zones blanches 3G da...</td>\n",
       "      <td>mon-reseau-mobile-arcep-zones-blanches-3g-data...</td>\n",
       "      <td>Collectivité de Corse</td>\n",
       "      <td>Ce jeu de données provient d'un service public...</td>\n",
       "      <td>NaN</td>\n",
       "      <td>NaN</td>\n",
       "      <td>infrastructures,telephone-mobile</td>\n",
       "      <td>NaN</td>\n",
       "      <td>NaN</td>\n",
       "      <td>...</td>\n",
       "      <td>NaN</td>\n",
       "      <td>NaN</td>\n",
       "      <td>NaN</td>\n",
       "      <td>NaN</td>\n",
       "      <td>NaN</td>\n",
       "      <td>NaN</td>\n",
       "      <td>NaN</td>\n",
       "      <td>NaN</td>\n",
       "      <td>NaN</td>\n",
       "      <td>CORSE</td>\n",
       "    </tr>\n",
       "    <tr>\n",
       "      <th>...</th>\n",
       "      <td>...</td>\n",
       "      <td>...</td>\n",
       "      <td>...</td>\n",
       "      <td>...</td>\n",
       "      <td>...</td>\n",
       "      <td>...</td>\n",
       "      <td>...</td>\n",
       "      <td>...</td>\n",
       "      <td>...</td>\n",
       "      <td>...</td>\n",
       "      <td>...</td>\n",
       "      <td>...</td>\n",
       "      <td>...</td>\n",
       "      <td>...</td>\n",
       "      <td>...</td>\n",
       "      <td>...</td>\n",
       "      <td>...</td>\n",
       "      <td>...</td>\n",
       "      <td>...</td>\n",
       "      <td>...</td>\n",
       "      <td>...</td>\n",
       "    </tr>\n",
       "    <tr>\n",
       "      <th>42832</th>\n",
       "      <td>5ce66e0d06e3e76b9e62521e</td>\n",
       "      <td>Consommation d'eau par compteur à Digne-les-Bains</td>\n",
       "      <td>consommation-deau-par-compteur-a-digne-les-bains</td>\n",
       "      <td>Ville de Digne-les-Bains</td>\n",
       "      <td>Relevé détaillé de la consommation d'eau à Dig...</td>\n",
       "      <td>NaN</td>\n",
       "      <td>NaN</td>\n",
       "      <td>canalisation,consommation,distribution,eau,reseau</td>\n",
       "      <td>NaN</td>\n",
       "      <td>NaN</td>\n",
       "      <td>...</td>\n",
       "      <td>NaN</td>\n",
       "      <td>NaN</td>\n",
       "      <td>NaN</td>\n",
       "      <td>NaN</td>\n",
       "      <td>NaN</td>\n",
       "      <td>NaN</td>\n",
       "      <td>NaN</td>\n",
       "      <td>NaN</td>\n",
       "      <td>NaN</td>\n",
       "      <td>DIGNE LES BAINS</td>\n",
       "    </tr>\n",
       "    <tr>\n",
       "      <th>42833</th>\n",
       "      <td>5ce889a406e3e76c3ed57ecd</td>\n",
       "      <td>Consommation eau potable par quartier à Digne-...</td>\n",
       "      <td>consommation-eau-potable-par-quartier-a-digne-...</td>\n",
       "      <td>Ville de Digne-les-Bains</td>\n",
       "      <td>Rapport de diagnostic de sectorisation du rése...</td>\n",
       "      <td>NaN</td>\n",
       "      <td>NaN</td>\n",
       "      <td>canalisation,consommation,distribution,eau,reseau</td>\n",
       "      <td>NaN</td>\n",
       "      <td>NaN</td>\n",
       "      <td>...</td>\n",
       "      <td>NaN</td>\n",
       "      <td>NaN</td>\n",
       "      <td>NaN</td>\n",
       "      <td>NaN</td>\n",
       "      <td>NaN</td>\n",
       "      <td>NaN</td>\n",
       "      <td>NaN</td>\n",
       "      <td>NaN</td>\n",
       "      <td>NaN</td>\n",
       "      <td>DIGNE LES BAINS</td>\n",
       "    </tr>\n",
       "    <tr>\n",
       "      <th>42834</th>\n",
       "      <td>5da117af06e3e7269429a310</td>\n",
       "      <td>Filaire de voies sur le territoire de la commu...</td>\n",
       "      <td>fr-241300417-adr-accm-filaire</td>\n",
       "      <td>Arles Crau Camargue Montagnette</td>\n",
       "      <td>Représentation de l'axe des voies qui porte le...</td>\n",
       "      <td>NaN</td>\n",
       "      <td>NaN</td>\n",
       "      <td>axe,donnees-ouvertes,filaire,localisation,nom,...</td>\n",
       "      <td>NaN</td>\n",
       "      <td>NaN</td>\n",
       "      <td>...</td>\n",
       "      <td>NaN</td>\n",
       "      <td>NaN</td>\n",
       "      <td>NaN</td>\n",
       "      <td>NaN</td>\n",
       "      <td>NaN</td>\n",
       "      <td>NaN</td>\n",
       "      <td>NaN</td>\n",
       "      <td>NaN</td>\n",
       "      <td>NaN</td>\n",
       "      <td>ARLES</td>\n",
       "    </tr>\n",
       "    <tr>\n",
       "      <th>42835</th>\n",
       "      <td>5cd5b6169ce2e7777eef0f2d</td>\n",
       "      <td>Filaire des voies - ACCM</td>\n",
       "      <td>filaire-des-voies-accm</td>\n",
       "      <td>Arles Crau Camargue Montagnette</td>\n",
       "      <td>Représentation des axes de voies sur l'ensembl...</td>\n",
       "      <td>NaN</td>\n",
       "      <td>NaN</td>\n",
       "      <td>axe-de-voie,filaire-de-voie,localisation,nom-d...</td>\n",
       "      <td>NaN</td>\n",
       "      <td>NaN</td>\n",
       "      <td>...</td>\n",
       "      <td>NaN</td>\n",
       "      <td>NaN</td>\n",
       "      <td>NaN</td>\n",
       "      <td>NaN</td>\n",
       "      <td>NaN</td>\n",
       "      <td>NaN</td>\n",
       "      <td>NaN</td>\n",
       "      <td>NaN</td>\n",
       "      <td>NaN</td>\n",
       "      <td>ARLES</td>\n",
       "    </tr>\n",
       "    <tr>\n",
       "      <th>42836</th>\n",
       "      <td>5e3b5c2edee7e7777ff5c8ee</td>\n",
       "      <td>Carrefour</td>\n",
       "      <td>syncc244656-42b3bfd6-c649-4a4e-911c-4e93ed5308fe</td>\n",
       "      <td>Arles Crau Camargue Montagnette</td>\n",
       "      <td>Implantation des carrefours entre les différen...</td>\n",
       "      <td>NaN</td>\n",
       "      <td>NaN</td>\n",
       "      <td>axe,carrefour,donnees-publiques,filaire,france...</td>\n",
       "      <td>NaN</td>\n",
       "      <td>NaN</td>\n",
       "      <td>...</td>\n",
       "      <td>NaN</td>\n",
       "      <td>NaN</td>\n",
       "      <td>NaN</td>\n",
       "      <td>NaN</td>\n",
       "      <td>NaN</td>\n",
       "      <td>NaN</td>\n",
       "      <td>NaN</td>\n",
       "      <td>NaN</td>\n",
       "      <td>NaN</td>\n",
       "      <td>ARLES</td>\n",
       "    </tr>\n",
       "  </tbody>\n",
       "</table>\n",
       "<p>42837 rows × 24 columns</p>\n",
       "</div>"
      ],
      "text/plain": [
       "                             id  \\\n",
       "0      5ef6c4b8cb925cf05ddd876a   \n",
       "1      5ef69a135ef68f28bfdd876a   \n",
       "2      5ef69a1328a6ea1e97dd876a   \n",
       "3      5ef68e8220f90f5d8ddd876a   \n",
       "4      5ef68e82714cc9b811dd876a   \n",
       "...                         ...   \n",
       "42832  5ce66e0d06e3e76b9e62521e   \n",
       "42833  5ce889a406e3e76c3ed57ecd   \n",
       "42834  5da117af06e3e7269429a310   \n",
       "42835  5cd5b6169ce2e7777eef0f2d   \n",
       "42836  5e3b5c2edee7e7777ff5c8ee   \n",
       "\n",
       "                                                   title  \\\n",
       "0              Laboratoires d'analyses médicales VIHTEST   \n",
       "1                          2020-2026_Elus Grand Chambéry   \n",
       "2                2020-2026_Elus communaux Grand Chambéry   \n",
       "3      Mon reseau mobile ARCEP - Zones blanches 4G da...   \n",
       "4      Mon reseau mobile ARCEP - Zones blanches 3G da...   \n",
       "...                                                  ...   \n",
       "42832  Consommation d'eau par compteur à Digne-les-Bains   \n",
       "42833  Consommation eau potable par quartier à Digne-...   \n",
       "42834  Filaire de voies sur le territoire de la commu...   \n",
       "42835                           Filaire des voies - ACCM   \n",
       "42836                                          Carrefour   \n",
       "\n",
       "                                                    slug  \\\n",
       "0               laboratoires-danalyses-medicales-vihtest   \n",
       "1                          2020-2026-elus-grand-chambery   \n",
       "2                2020-2026-elus-communaux-grand-chambery   \n",
       "3      mon-reseau-mobile-arcep-zones-blanches-4g-data...   \n",
       "4      mon-reseau-mobile-arcep-zones-blanches-3g-data...   \n",
       "...                                                  ...   \n",
       "42832   consommation-deau-par-compteur-a-digne-les-bains   \n",
       "42833  consommation-eau-potable-par-quartier-a-digne-...   \n",
       "42834                      fr-241300417-adr-accm-filaire   \n",
       "42835                             filaire-des-voies-accm   \n",
       "42836   syncc244656-42b3bfd6-c649-4a4e-911c-4e93ed5308fe   \n",
       "\n",
       "                          organization  \\\n",
       "0                      Mairie de Paris   \n",
       "1                       Grand Chambéry   \n",
       "2                       Grand Chambéry   \n",
       "3                Collectivité de Corse   \n",
       "4                Collectivité de Corse   \n",
       "...                                ...   \n",
       "42832         Ville de Digne-les-Bains   \n",
       "42833         Ville de Digne-les-Bains   \n",
       "42834  Arles Crau Camargue Montagnette   \n",
       "42835  Arles Crau Camargue Montagnette   \n",
       "42836  Arles Crau Camargue Montagnette   \n",
       "\n",
       "                                             description spatial.granularity  \\\n",
       "0      **Jeu de données localisant les Laboratoire d'...                 NaN   \n",
       "1      Ce jeu de données présente les **conseillers c...                 NaN   \n",
       "2      Ce jeu de données présente les conseillers mun...                 NaN   \n",
       "3      Ce jeu de données provient d'un service public...                 NaN   \n",
       "4      Ce jeu de données provient d'un service public...                 NaN   \n",
       "...                                                  ...                 ...   \n",
       "42832  Relevé détaillé de la consommation d'eau à Dig...                 NaN   \n",
       "42833  Rapport de diagnostic de sectorisation du rése...                 NaN   \n",
       "42834  Représentation de l'axe des voies qui porte le...                 NaN   \n",
       "42835  Représentation des axes de voies sur l'ensembl...                 NaN   \n",
       "42836  Implantation des carrefours entre les différen...                 NaN   \n",
       "\n",
       "      spatial.zones                                               tags  \\\n",
       "0               NaN    depistage,equipements,sante,services,social,vih   \n",
       "1               NaN  administration,citoyennete,election,elu-e-s,ep...   \n",
       "2               NaN  administration,citoyennete,commune,election,el...   \n",
       "3               NaN                   infrastructures,telephone-mobile   \n",
       "4               NaN                   infrastructures,telephone-mobile   \n",
       "...             ...                                                ...   \n",
       "42832           NaN  canalisation,consommation,distribution,eau,reseau   \n",
       "42833           NaN  canalisation,consommation,distribution,eau,reseau   \n",
       "42834           NaN  axe,donnees-ouvertes,filaire,localisation,nom,...   \n",
       "42835           NaN  axe-de-voie,filaire-de-voie,localisation,nom-d...   \n",
       "42836           NaN  axe,carrefour,donnees-publiques,filaire,france...   \n",
       "\n",
       "       Unnamed: 8  Unnamed: 9  ...  Unnamed: 14  Unnamed: 15  Unnamed: 16  \\\n",
       "0             NaN         NaN  ...          NaN          NaN          NaN   \n",
       "1             NaN         NaN  ...          NaN          NaN          NaN   \n",
       "2             NaN         NaN  ...          NaN          NaN          NaN   \n",
       "3             NaN         NaN  ...          NaN          NaN          NaN   \n",
       "4             NaN         NaN  ...          NaN          NaN          NaN   \n",
       "...           ...         ...  ...          ...          ...          ...   \n",
       "42832         NaN         NaN  ...          NaN          NaN          NaN   \n",
       "42833         NaN         NaN  ...          NaN          NaN          NaN   \n",
       "42834         NaN         NaN  ...          NaN          NaN          NaN   \n",
       "42835         NaN         NaN  ...          NaN          NaN          NaN   \n",
       "42836         NaN         NaN  ...          NaN          NaN          NaN   \n",
       "\n",
       "       Unnamed: 17  Unnamed: 18  Unnamed: 19  Unnamed: 20  Unnamed: 21  \\\n",
       "0              NaN          NaN          NaN          NaN          NaN   \n",
       "1              NaN          NaN          NaN          NaN          NaN   \n",
       "2              NaN          NaN          NaN          NaN          NaN   \n",
       "3              NaN          NaN          NaN          NaN          NaN   \n",
       "4              NaN          NaN          NaN          NaN          NaN   \n",
       "...            ...          ...          ...          ...          ...   \n",
       "42832          NaN          NaN          NaN          NaN          NaN   \n",
       "42833          NaN          NaN          NaN          NaN          NaN   \n",
       "42834          NaN          NaN          NaN          NaN          NaN   \n",
       "42835          NaN          NaN          NaN          NaN          NaN   \n",
       "42836          NaN          NaN          NaN          NaN          NaN   \n",
       "\n",
       "       Unnamed: 22        pred locs  \n",
       "0              NaN            PARIS  \n",
       "1              NaN         CHAMBERY  \n",
       "2              NaN         CHAMBERY  \n",
       "3              NaN            CORSE  \n",
       "4              NaN            CORSE  \n",
       "...            ...              ...  \n",
       "42832          NaN  DIGNE LES BAINS  \n",
       "42833          NaN  DIGNE LES BAINS  \n",
       "42834          NaN            ARLES  \n",
       "42835          NaN            ARLES  \n",
       "42836          NaN            ARLES  \n",
       "\n",
       "[42837 rows x 24 columns]"
      ]
     },
     "execution_count": 18,
     "metadata": {},
     "output_type": "execute_result"
    }
   ],
   "source": [
    "df2"
   ]
  },
  {
   "cell_type": "code",
   "execution_count": 21,
   "metadata": {},
   "outputs": [
    {
     "data": {
      "text/plain": [
       "'Toutes les délibérations de la CNIL depuis l\\'origine, la première délibération ayant été rendue en 1979. \\n\\nLeurs modalités de publication sont définies par la loi Informatique et Libertés, par son décret d\\x92application ainsi que par le règlement intérieur de la Commission. \\n\\nLes délibérations adoptées entre le 1er janvier 1979 et le 3 mai 2012 ont été publiées dans leur version mise à jour au plus tard le 4 mai 2012. Les délibérations adoptées postérieurement au 3 mai 2012 portent mention de leur date de publication effective. \\n\\nLes délibérations de la CNIL sont également accessibles sur <a href=\"http://legifrance.gouv.fr/initRechExpCnil.do\" target=\"_blank\">Legifrance</a>.\\n\\n'"
      ]
     },
     "execution_count": 21,
     "metadata": {},
     "output_type": "execute_result"
    }
   ],
   "source": [
    "df2.loc[37778]['description']"
   ]
  },
  {
   "cell_type": "code",
   "execution_count": null,
   "metadata": {},
   "outputs": [],
   "source": []
  }
 ],
 "metadata": {
  "kernelspec": {
   "display_name": "Python 3",
   "language": "python",
   "name": "python3"
  },
  "language_info": {
   "codemirror_mode": {
    "name": "ipython",
    "version": 3
   },
   "file_extension": ".py",
   "mimetype": "text/x-python",
   "name": "python",
   "nbconvert_exporter": "python",
   "pygments_lexer": "ipython3",
   "version": "3.7.7"
  },
  "toc": {
   "base_numbering": 1,
   "nav_menu": {},
   "number_sections": true,
   "sideBar": true,
   "skip_h1_title": false,
   "title_cell": "Table of Contents",
   "title_sidebar": "Contents",
   "toc_cell": false,
   "toc_position": {},
   "toc_section_display": true,
   "toc_window_display": false
  },
  "varInspector": {
   "cols": {
    "lenName": 16,
    "lenType": 16,
    "lenVar": 40
   },
   "kernels_config": {
    "python": {
     "delete_cmd_postfix": "",
     "delete_cmd_prefix": "del ",
     "library": "var_list.py",
     "varRefreshCmd": "print(var_dic_list())"
    },
    "r": {
     "delete_cmd_postfix": ") ",
     "delete_cmd_prefix": "rm(",
     "library": "var_list.r",
     "varRefreshCmd": "cat(var_dic_list()) "
    }
   },
   "types_to_exclude": [
    "module",
    "function",
    "builtin_function_or_method",
    "instance",
    "_Feature"
   ],
   "window_display": false
  }
 },
 "nbformat": 4,
 "nbformat_minor": 4
}
