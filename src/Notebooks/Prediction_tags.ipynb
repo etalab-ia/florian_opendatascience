{
 "cells": [
  {
   "cell_type": "markdown",
   "metadata": {},
   "source": [
    "### Imports"
   ]
  },
  {
   "cell_type": "code",
   "execution_count": 3,
   "metadata": {},
   "outputs": [
    {
     "data": {
      "text/html": [
       "        <script type=\"text/javascript\">\n",
       "        window.PlotlyConfig = {MathJaxConfig: 'local'};\n",
       "        if (window.MathJax) {MathJax.Hub.Config({SVG: {font: \"STIX-Web\"}});}\n",
       "        if (typeof require !== 'undefined') {\n",
       "        require.undef(\"plotly\");\n",
       "        requirejs.config({\n",
       "            paths: {\n",
       "                'plotly': ['https://cdn.plot.ly/plotly-latest.min']\n",
       "            }\n",
       "        });\n",
       "        require(['plotly'], function(Plotly) {\n",
       "            window._Plotly = Plotly;\n",
       "        });\n",
       "        }\n",
       "        </script>\n",
       "        "
      ]
     },
     "metadata": {},
     "output_type": "display_data"
    }
   ],
   "source": [
    "import numpy as np\n",
    "import pandas as pd\n",
    "import matplotlib.pyplot as plt\n",
    "import random\n",
    "#Sklearn\n",
    "from sklearn.decomposition import NMF, LatentDirichletAllocation, TruncatedSVD\n",
    "from sklearn.feature_extraction.text import CountVectorizer\n",
    "from sklearn.manifold import TSNE\n",
    "\n",
    "#other\n",
    "import concurrent.futures\n",
    "import time\n",
    "import pyLDAvis.sklearn\n",
    "from pylab import bone, pcolor, colorbar, plot, show, rcParams, savefig\n",
    "import warnings\n",
    "warnings.filterwarnings('ignore')\n",
    "\n",
    "\n",
    "%matplotlib inline\n",
    "\n",
    "# Plotly \n",
    "from plotly import tools\n",
    "import chart_studio.plotly as py\n",
    "from plotly.offline import init_notebook_mode, iplot\n",
    "init_notebook_mode(connected=True)\n",
    "import plotly.graph_objs as go\n",
    "import plotly.figure_factory as ff\n",
    "\n",
    "#spaCy\n",
    "import spacy\n",
    "nlp = spacy.load(\"fr_core_news_lg\")\n",
    "from spacy.lang.fr.stop_words import STOP_WORDS\n",
    "from spacy.lang.fr import French\n",
    "import string\n",
    "punctuations = string.punctuation\n",
    "stopwords = list(STOP_WORDS)"
   ]
  },
  {
   "cell_type": "markdown",
   "metadata": {},
   "source": [
    "### Load (acceptably clean) data"
   ]
  },
  {
   "cell_type": "code",
   "execution_count": 4,
   "metadata": {},
   "outputs": [],
   "source": [
    "data=pd.read_pickle(\"../../data/cleaned2.pkl\")\n",
    "data_np=data.to_numpy()"
   ]
  },
  {
   "cell_type": "code",
   "execution_count": 5,
   "metadata": {},
   "outputs": [
    {
     "data": {
      "text/plain": [
       "\"stock des fabricants d'aliments biologiques pour bétail. FranceAgriMer - Établissement national des produits de l'agriculture et de la mer. grains graines en stock chez les fabricants d'aliments biologiques pour bétail des dernières campagnes. cereales oleagineux oleoproteagineux proteagineux tourteaux\""
      ]
     },
     "execution_count": 5,
     "metadata": {},
     "output_type": "execute_result"
    }
   ],
   "source": [
    "i=random.randint(1, 40000)\n",
    "data_np[i]"
   ]
  },
  {
   "cell_type": "code",
   "execution_count": 6,
   "metadata": {},
   "outputs": [],
   "source": [
    "import progressbar\n",
    "bar = progressbar.ProgressBar(maxval=len(data_np), \\\n",
    "    widgets=[progressbar.Bar('=', '[', ']'), ' ', progressbar.Percentage()])\n"
   ]
  },
  {
   "cell_type": "markdown",
   "metadata": {},
   "source": [
    "## Process data to extract keywords only"
   ]
  },
  {
   "cell_type": "markdown",
   "metadata": {},
   "source": [
    "### Extract the locs "
   ]
  },
  {
   "cell_type": "code",
   "execution_count": 7,
   "metadata": {},
   "outputs": [],
   "source": [
    "def extract_locs(doc):\n",
    "    all_locs=[None]*len(doc)\n",
    "    bar.start()\n",
    "    for i in range(len(doc)):\n",
    "        this_doc=[]\n",
    "        for token in nlp(doc[i]):\n",
    "            if token.ent_type_=='LOC':\n",
    "                this_doc.append(token.text)\n",
    "        all_locs[i]=this_doc\n",
    "        bar.update(i+1)\n",
    "    bar.finish()\n",
    "    return(all_locs)\n",
    "\n",
    "import unicodedata\n",
    "def strip_accents(text):\n",
    "\n",
    "    try:\n",
    "        text = unicode(text, 'utf-8')\n",
    "    except NameError: # unicode is a default on python 3 \n",
    "        pass\n",
    "\n",
    "    text = unicodedata.normalize('NFD', text)\\\n",
    "           .encode('ascii', 'ignore')\\\n",
    "           .decode(\"utf-8\")\n",
    "\n",
    "    return str(text)"
   ]
  },
  {
   "cell_type": "code",
   "execution_count": 31,
   "metadata": {},
   "outputs": [
    {
     "name": "stderr",
     "output_type": "stream",
     "text": [
      "[========================================================================] 100%\n"
     ]
    }
   ],
   "source": [
    "all_locs=extract_locs(data_np)"
   ]
  },
  {
   "cell_type": "code",
   "execution_count": 93,
   "metadata": {},
   "outputs": [],
   "source": [
    "stop_loc=['Région', 'Métropole', 'Region', 'Metropole','Mer', 'mer', 'Département', 'DEPARTEMENT', 'Agglomération', 'agglomération','Communauté', 'communauté']"
   ]
  },
  {
   "cell_type": "code",
   "execution_count": 94,
   "metadata": {},
   "outputs": [],
   "source": [
    "all_locs_ns=[None]*len(all_locs)\n",
    "for i in range(len(all_locs)):\n",
    "    mini_list=[x for x in all_locs[i] if x not in stop_loc]\n",
    "    all_locs_ns[i]=mini_list"
   ]
  },
  {
   "cell_type": "code",
   "execution_count": 95,
   "metadata": {},
   "outputs": [],
   "source": [
    "all_locs_ns_str=all_locs_ns\n",
    "for i in range(len(all_locs_ns)):\n",
    "    all_locs_ns_str[i]=' '.join(all_locs_ns[i])\n",
    "    "
   ]
  },
  {
   "cell_type": "code",
   "execution_count": 96,
   "metadata": {},
   "outputs": [
    {
     "data": {
      "text/plain": [
       "42838"
      ]
     },
     "execution_count": 96,
     "metadata": {},
     "output_type": "execute_result"
    }
   ],
   "source": [
    "len(all_locs_ns_str)"
   ]
  },
  {
   "cell_type": "code",
   "execution_count": 97,
   "metadata": {},
   "outputs": [],
   "source": [
    "all_locs_np=np.array(all_locs)"
   ]
  },
  {
   "cell_type": "code",
   "execution_count": 98,
   "metadata": {},
   "outputs": [],
   "source": [
    "np.save('../../data/locs_insee_str.npy', all_locs_ns_str, allow_pickle=True)"
   ]
  },
  {
   "cell_type": "markdown",
   "metadata": {},
   "source": [
    "### Compare with insee tables"
   ]
  },
  {
   "cell_type": "code",
   "execution_count": 8,
   "metadata": {},
   "outputs": [],
   "source": [
    "all_locs_ns_str=np.load('../../data/locs_insee_str.npy')"
   ]
  },
  {
   "cell_type": "code",
   "execution_count": 9,
   "metadata": {},
   "outputs": [],
   "source": [
    "departements=pd.read_csv('../../data/departement2019.csv')\n",
    "communes=pd.read_csv('../../data/communes-01012019.csv')\n",
    "regions=pd.read_csv('../../data/region2019.csv')"
   ]
  },
  {
   "cell_type": "code",
   "execution_count": 10,
   "metadata": {},
   "outputs": [],
   "source": [
    "communes_names=communes['nccenr'].to_numpy()"
   ]
  },
  {
   "cell_type": "code",
   "execution_count": 11,
   "metadata": {},
   "outputs": [],
   "source": [
    "departements_names=departements['nccenr'].to_numpy()"
   ]
  },
  {
   "cell_type": "code",
   "execution_count": 12,
   "metadata": {},
   "outputs": [],
   "source": [
    "regions_names=regions['nccenr'].to_numpy()"
   ]
  },
  {
   "cell_type": "code",
   "execution_count": 13,
   "metadata": {},
   "outputs": [],
   "source": [
    "not_comm_names=list(departements_names)+list(regions_names)##+['France', 'Europe', 'Monde']"
   ]
  },
  {
   "cell_type": "code",
   "execution_count": 21,
   "metadata": {},
   "outputs": [],
   "source": [
    "communes_prblm=[]\n",
    "for i in communes_names:\n",
    "    for j in not_comm_names:\n",
    "        if fuzz.token_set_ratio(i,j)==100:\n",
    "            communes_prblm.append(i)\n",
    "    "
   ]
  },
  {
   "cell_type": "code",
   "execution_count": 22,
   "metadata": {},
   "outputs": [
    {
     "data": {
      "text/plain": [
       "'île-de-france Île-de-France'"
      ]
     },
     "execution_count": 22,
     "metadata": {},
     "output_type": "execute_result"
    }
   ],
   "source": [
    "all_locs_ns_str[25]"
   ]
  },
  {
   "cell_type": "code",
   "execution_count": 23,
   "metadata": {},
   "outputs": [
    {
     "data": {
      "text/plain": [
       "array(['Guadeloupe', 'Martinique', 'Guyane', 'La Réunion', 'Mayotte',\n",
       "       'Île-de-France', 'Centre-Val de Loire', 'Bourgogne-Franche-Comté',\n",
       "       'Normandie', 'Hauts-de-France', 'Grand Est', 'Pays de la Loire',\n",
       "       'Bretagne', 'Nouvelle-Aquitaine', 'Occitanie',\n",
       "       'Auvergne-Rhône-Alpes', \"Provence-Alpes-Côte d'Azur\", 'Corse'],\n",
       "      dtype=object)"
      ]
     },
     "execution_count": 23,
     "metadata": {},
     "output_type": "execute_result"
    }
   ],
   "source": [
    "regions_names"
   ]
  },
  {
   "cell_type": "code",
   "execution_count": 49,
   "metadata": {},
   "outputs": [],
   "source": [
    "from fuzzywuzzy import fuzz\n",
    "def is_in(locs, category):\n",
    "    values=[]\n",
    "    for i in category:\n",
    "        values.append(fuzz.token_set_ratio(locs, i))\n",
    "        maxi=max(values)\n",
    "    max_item=[i for i, j in enumerate(values) if j == maxi]   \n",
    "   # print(max_item)\n",
    "    if values[max_item[0]]==100:\n",
    "        found=True\n",
    "        if len(max_item)>1:\n",
    "            values2=[]\n",
    "            for w in max_item:\n",
    "                values2.append(fuzz.ratio(locs, category[w]))\n",
    "          #  print(values2)\n",
    "            max_item_item=values2.index(max(values2))\n",
    "            max_item=[max_item[max_item_item]]\n",
    "    else:\n",
    "        found=False\n",
    "    return(max_item[0], found)"
   ]
  },
  {
   "cell_type": "code",
   "execution_count": 91,
   "metadata": {},
   "outputs": [],
   "source": [
    "def text_to_loc(text):\n",
    "    if text=='':\n",
    "        return(None)\n",
    "    if fuzz.token_set_ratio(text, 'france')==100:\n",
    "        if text.find('Fort-de-France') == -1:\n",
    "            return('France')\n",
    "    max_item, found_c=is_in(text, communes_names)\n",
    "    location=communes.loc[[max_item]]\n",
    "    if communes_names[max_item] in communes_prblm:\n",
    "        found_c=False\n",
    "    if found_c==False:\n",
    "        max_item, found_d=is_in(text, not_comm_names)\n",
    "        try:\n",
    "            location=departements.loc[[max_item]]\n",
    "        except:\n",
    "            location=regions.loc[[max_item-len(departements_names)]]\n",
    "        return(location)\n",
    "    return(location)"
   ]
  },
  {
   "cell_type": "code",
   "execution_count": 90,
   "metadata": {},
   "outputs": [
    {
     "data": {
      "text/plain": [
       "0"
      ]
     },
     "execution_count": 90,
     "metadata": {},
     "output_type": "execute_result"
    }
   ],
   "source": [
    "'Fort-de-France'.find('Fort-de-France')"
   ]
  },
  {
   "cell_type": "code",
   "execution_count": 105,
   "metadata": {
    "scrolled": true
   },
   "outputs": [
    {
     "name": "stdout",
     "output_type": "stream",
     "text": [
      "TEXTE INITIAL: extrait de la base sirene sur le périmètre de la commune de nice. Métropole Nice Côte d'Azur. vous trouverez ici l'extrait de la base nationale sirene sur le périmètre de la commune de nice.. base entreprise nice sirene\n",
      " \n",
      "Localisation INSEE:\n",
      "     typecom    com   reg dep  arr  tncc   ncc nccenr libelle   can  comparent\n",
      "2069     COM  06088  93.0  06  062     0  NICE   Nice    Nice  0699        NaN\n"
     ]
    }
   ],
   "source": [
    "i=random.randint(1,len(all_locs_ns_str))\n",
    "#i=27944\n",
    "print('TEXTE INITIAL: '+ data_np[i])\n",
    "t = time.time()\n",
    "location=text_to_loc(all_locs_ns_str[i])\n",
    "elapsed = time.time() - t\n",
    "#print('MOTS EXTRAITS'+ all_locs_ns_str[i])\n",
    "print(' ')\n",
    "print('Localisation INSEE:')\n",
    "print(location)\n",
    "#print('Computed in '+str(elapsed) )"
   ]
  },
  {
   "cell_type": "code",
   "execution_count": 45,
   "metadata": {},
   "outputs": [
    {
     "data": {
      "text/plain": [
       "'rivière marne de châlons-en-champagne Direction Départementale des Territoires de la Marne'"
      ]
     },
     "execution_count": 45,
     "metadata": {},
     "output_type": "execute_result"
    }
   ],
   "source": [
    "all_locs_ns_str[20751]"
   ]
  },
  {
   "cell_type": "code",
   "execution_count": 224,
   "metadata": {},
   "outputs": [
    {
     "data": {
      "text/plain": [
       "'Porte-de-Savoie'"
      ]
     },
     "execution_count": 224,
     "metadata": {},
     "output_type": "execute_result"
    }
   ],
   "source": [
    "communes_names[31343]#8183"
   ]
  },
  {
   "cell_type": "code",
   "execution_count": 122,
   "metadata": {},
   "outputs": [],
   "source": [
    "other=list(regions_names)+list(departements_names)+['France']"
   ]
  },
  {
   "cell_type": "code",
   "execution_count": 44,
   "metadata": {},
   "outputs": [
    {
     "data": {
      "text/html": [
       "<div>\n",
       "<style scoped>\n",
       "    .dataframe tbody tr th:only-of-type {\n",
       "        vertical-align: middle;\n",
       "    }\n",
       "\n",
       "    .dataframe tbody tr th {\n",
       "        vertical-align: top;\n",
       "    }\n",
       "\n",
       "    .dataframe thead th {\n",
       "        text-align: right;\n",
       "    }\n",
       "</style>\n",
       "<table border=\"1\" class=\"dataframe\">\n",
       "  <thead>\n",
       "    <tr style=\"text-align: right;\">\n",
       "      <th></th>\n",
       "      <th>typecom</th>\n",
       "      <th>com</th>\n",
       "      <th>reg</th>\n",
       "      <th>dep</th>\n",
       "      <th>arr</th>\n",
       "      <th>tncc</th>\n",
       "      <th>ncc</th>\n",
       "      <th>nccenr</th>\n",
       "      <th>libelle</th>\n",
       "      <th>can</th>\n",
       "      <th>comparent</th>\n",
       "    </tr>\n",
       "  </thead>\n",
       "  <tbody>\n",
       "    <tr>\n",
       "      <th>0</th>\n",
       "      <td>COM</td>\n",
       "      <td>01001</td>\n",
       "      <td>84.0</td>\n",
       "      <td>01</td>\n",
       "      <td>012</td>\n",
       "      <td>5</td>\n",
       "      <td>ABERGEMENT CLEMENCIAT</td>\n",
       "      <td>Abergement-Clémenciat</td>\n",
       "      <td>L'Abergement-Clémenciat</td>\n",
       "      <td>0108</td>\n",
       "      <td>NaN</td>\n",
       "    </tr>\n",
       "    <tr>\n",
       "      <th>1</th>\n",
       "      <td>COM</td>\n",
       "      <td>01002</td>\n",
       "      <td>84.0</td>\n",
       "      <td>01</td>\n",
       "      <td>011</td>\n",
       "      <td>5</td>\n",
       "      <td>ABERGEMENT DE VAREY</td>\n",
       "      <td>Abergement-de-Varey</td>\n",
       "      <td>L'Abergement-de-Varey</td>\n",
       "      <td>0101</td>\n",
       "      <td>NaN</td>\n",
       "    </tr>\n",
       "    <tr>\n",
       "      <th>2</th>\n",
       "      <td>COM</td>\n",
       "      <td>01004</td>\n",
       "      <td>84.0</td>\n",
       "      <td>01</td>\n",
       "      <td>011</td>\n",
       "      <td>1</td>\n",
       "      <td>AMBERIEU EN BUGEY</td>\n",
       "      <td>Ambérieu-en-Bugey</td>\n",
       "      <td>Ambérieu-en-Bugey</td>\n",
       "      <td>0101</td>\n",
       "      <td>NaN</td>\n",
       "    </tr>\n",
       "    <tr>\n",
       "      <th>3</th>\n",
       "      <td>COM</td>\n",
       "      <td>01005</td>\n",
       "      <td>84.0</td>\n",
       "      <td>01</td>\n",
       "      <td>012</td>\n",
       "      <td>1</td>\n",
       "      <td>AMBERIEUX EN DOMBES</td>\n",
       "      <td>Ambérieux-en-Dombes</td>\n",
       "      <td>Ambérieux-en-Dombes</td>\n",
       "      <td>0122</td>\n",
       "      <td>NaN</td>\n",
       "    </tr>\n",
       "    <tr>\n",
       "      <th>4</th>\n",
       "      <td>COM</td>\n",
       "      <td>01006</td>\n",
       "      <td>84.0</td>\n",
       "      <td>01</td>\n",
       "      <td>011</td>\n",
       "      <td>1</td>\n",
       "      <td>AMBLEON</td>\n",
       "      <td>Ambléon</td>\n",
       "      <td>Ambléon</td>\n",
       "      <td>0104</td>\n",
       "      <td>NaN</td>\n",
       "    </tr>\n",
       "    <tr>\n",
       "      <th>...</th>\n",
       "      <td>...</td>\n",
       "      <td>...</td>\n",
       "      <td>...</td>\n",
       "      <td>...</td>\n",
       "      <td>...</td>\n",
       "      <td>...</td>\n",
       "      <td>...</td>\n",
       "      <td>...</td>\n",
       "      <td>...</td>\n",
       "      <td>...</td>\n",
       "      <td>...</td>\n",
       "    </tr>\n",
       "    <tr>\n",
       "      <th>37925</th>\n",
       "      <td>COM</td>\n",
       "      <td>97613</td>\n",
       "      <td>6.0</td>\n",
       "      <td>976</td>\n",
       "      <td>NaN</td>\n",
       "      <td>0</td>\n",
       "      <td>M TSANGAMOUJI</td>\n",
       "      <td>M'Tsangamouji</td>\n",
       "      <td>M'Tsangamouji</td>\n",
       "      <td>97613</td>\n",
       "      <td>NaN</td>\n",
       "    </tr>\n",
       "    <tr>\n",
       "      <th>37926</th>\n",
       "      <td>COM</td>\n",
       "      <td>97614</td>\n",
       "      <td>6.0</td>\n",
       "      <td>976</td>\n",
       "      <td>NaN</td>\n",
       "      <td>1</td>\n",
       "      <td>OUANGANI</td>\n",
       "      <td>Ouangani</td>\n",
       "      <td>Ouangani</td>\n",
       "      <td>97610</td>\n",
       "      <td>NaN</td>\n",
       "    </tr>\n",
       "    <tr>\n",
       "      <th>37927</th>\n",
       "      <td>COM</td>\n",
       "      <td>97615</td>\n",
       "      <td>6.0</td>\n",
       "      <td>976</td>\n",
       "      <td>NaN</td>\n",
       "      <td>0</td>\n",
       "      <td>PAMANDZI</td>\n",
       "      <td>Pamandzi</td>\n",
       "      <td>Pamandzi</td>\n",
       "      <td>97611</td>\n",
       "      <td>NaN</td>\n",
       "    </tr>\n",
       "    <tr>\n",
       "      <th>37928</th>\n",
       "      <td>COM</td>\n",
       "      <td>97616</td>\n",
       "      <td>6.0</td>\n",
       "      <td>976</td>\n",
       "      <td>NaN</td>\n",
       "      <td>0</td>\n",
       "      <td>SADA</td>\n",
       "      <td>Sada</td>\n",
       "      <td>Sada</td>\n",
       "      <td>97612</td>\n",
       "      <td>NaN</td>\n",
       "    </tr>\n",
       "    <tr>\n",
       "      <th>37929</th>\n",
       "      <td>COM</td>\n",
       "      <td>97617</td>\n",
       "      <td>6.0</td>\n",
       "      <td>976</td>\n",
       "      <td>NaN</td>\n",
       "      <td>0</td>\n",
       "      <td>TSINGONI</td>\n",
       "      <td>Tsingoni</td>\n",
       "      <td>Tsingoni</td>\n",
       "      <td>97613</td>\n",
       "      <td>NaN</td>\n",
       "    </tr>\n",
       "  </tbody>\n",
       "</table>\n",
       "<p>37930 rows × 11 columns</p>\n",
       "</div>"
      ],
      "text/plain": [
       "      typecom    com   reg  dep  arr  tncc                    ncc  \\\n",
       "0         COM  01001  84.0   01  012     5  ABERGEMENT CLEMENCIAT   \n",
       "1         COM  01002  84.0   01  011     5    ABERGEMENT DE VAREY   \n",
       "2         COM  01004  84.0   01  011     1      AMBERIEU EN BUGEY   \n",
       "3         COM  01005  84.0   01  012     1    AMBERIEUX EN DOMBES   \n",
       "4         COM  01006  84.0   01  011     1                AMBLEON   \n",
       "...       ...    ...   ...  ...  ...   ...                    ...   \n",
       "37925     COM  97613   6.0  976  NaN     0          M TSANGAMOUJI   \n",
       "37926     COM  97614   6.0  976  NaN     1               OUANGANI   \n",
       "37927     COM  97615   6.0  976  NaN     0               PAMANDZI   \n",
       "37928     COM  97616   6.0  976  NaN     0                   SADA   \n",
       "37929     COM  97617   6.0  976  NaN     0               TSINGONI   \n",
       "\n",
       "                      nccenr                  libelle    can  comparent  \n",
       "0      Abergement-Clémenciat  L'Abergement-Clémenciat   0108        NaN  \n",
       "1        Abergement-de-Varey    L'Abergement-de-Varey   0101        NaN  \n",
       "2          Ambérieu-en-Bugey        Ambérieu-en-Bugey   0101        NaN  \n",
       "3        Ambérieux-en-Dombes      Ambérieux-en-Dombes   0122        NaN  \n",
       "4                    Ambléon                  Ambléon   0104        NaN  \n",
       "...                      ...                      ...    ...        ...  \n",
       "37925          M'Tsangamouji            M'Tsangamouji  97613        NaN  \n",
       "37926               Ouangani                 Ouangani  97610        NaN  \n",
       "37927               Pamandzi                 Pamandzi  97611        NaN  \n",
       "37928                   Sada                     Sada  97612        NaN  \n",
       "37929               Tsingoni                 Tsingoni  97613        NaN  \n",
       "\n",
       "[37930 rows x 11 columns]"
      ]
     },
     "execution_count": 44,
     "metadata": {},
     "output_type": "execute_result"
    }
   ],
   "source": [
    "communes"
   ]
  },
  {
   "cell_type": "code",
   "execution_count": 144,
   "metadata": {},
   "outputs": [],
   "source": [
    "dpt_prblm=[]\n",
    "for i in departements_names:\n",
    "    for j in regions_names:\n",
    "        if fuzz.token_set_ratio(i,j)==100:\n",
    "            dpt_prblm.append(i)"
   ]
  },
  {
   "cell_type": "code",
   "execution_count": 48,
   "metadata": {},
   "outputs": [
    {
     "name": "stdout",
     "output_type": "stream",
     "text": [
      "Balleroy-sur-Drôme\n",
      "Lande-sur-Drôme\n",
      "Val de Drôme\n",
      "Livron-sur-Drôme\n",
      "Loriol-sur-Drôme\n"
     ]
    }
   ],
   "source": [
    "for i in communes_names:\n",
    "    if fuzz.token_set_ratio(i,'drôme')==100:\n",
    "        print(i)"
   ]
  },
  {
   "cell_type": "code",
   "execution_count": 146,
   "metadata": {},
   "outputs": [
    {
     "data": {
      "text/plain": [
       "array(['Guadeloupe', 'Martinique', 'Guyane', 'La Réunion', 'Mayotte',\n",
       "       'Île-de-France', 'Centre-Val de Loire', 'Bourgogne-Franche-Comté',\n",
       "       'Normandie', 'Hauts-de-France', 'Grand Est', 'Pays de la Loire',\n",
       "       'Bretagne', 'Nouvelle-Aquitaine', 'Occitanie',\n",
       "       'Auvergne-Rhône-Alpes', \"Provence-Alpes-Côte d'Azur\", 'Corse'],\n",
       "      dtype=object)"
      ]
     },
     "execution_count": 146,
     "metadata": {},
     "output_type": "execute_result"
    }
   ],
   "source": [
    "regions_names"
   ]
  },
  {
   "cell_type": "code",
   "execution_count": 164,
   "metadata": {},
   "outputs": [
    {
     "data": {
      "text/plain": [
       "array(['Ain', 'Aisne', 'Allier', 'Alpes-de-Haute-Provence',\n",
       "       'Hautes-Alpes', 'Alpes-Maritimes', 'Ardèche', 'Ardennes', 'Ariège',\n",
       "       'Aube', 'Aude', 'Aveyron', 'Bouches-du-Rhône', 'Calvados',\n",
       "       'Cantal', 'Charente', 'Charente-Maritime', 'Cher', 'Corrèze',\n",
       "       \"Côte-d'Or\", \"Côtes-d'Armor\", 'Creuse', 'Dordogne', 'Doubs',\n",
       "       'Drôme', 'Eure', 'Eure-et-Loir', 'Finistère', 'Corse-du-Sud',\n",
       "       'Haute-Corse', 'Gard', 'Haute-Garonne', 'Gers', 'Gironde',\n",
       "       'Hérault', 'Ille-et-Vilaine', 'Indre', 'Indre-et-Loire', 'Isère',\n",
       "       'Jura', 'Landes', 'Loir-et-Cher', 'Loire', 'Haute-Loire',\n",
       "       'Loire-Atlantique', 'Loiret', 'Lot', 'Lot-et-Garonne', 'Lozère',\n",
       "       'Maine-et-Loire', 'Manche', 'Marne', 'Haute-Marne', 'Mayenne',\n",
       "       'Meurthe-et-Moselle', 'Meuse', 'Morbihan', 'Moselle', 'Nièvre',\n",
       "       'Nord', 'Oise', 'Orne', 'Pas-de-Calais', 'Puy-de-Dôme',\n",
       "       'Pyrénées-Atlantiques', 'Hautes-Pyrénées', 'Pyrénées-Orientales',\n",
       "       'Bas-Rhin', 'Haut-Rhin', 'Rhône', 'Haute-Saône', 'Saône-et-Loire',\n",
       "       'Sarthe', 'Savoie', 'Haute-Savoie', 'Paris', 'Seine-Maritime',\n",
       "       'Seine-et-Marne', 'Yvelines', 'Deux-Sèvres', 'Somme', 'Tarn',\n",
       "       'Tarn-et-Garonne', 'Var', 'Vaucluse', 'Vendée', 'Vienne',\n",
       "       'Haute-Vienne', 'Vosges', 'Yonne', 'Territoire de Belfort',\n",
       "       'Essonne', 'Hauts-de-Seine', 'Seine-Saint-Denis', 'Val-de-Marne',\n",
       "       \"Val-d'Oise\", 'Guadeloupe', 'Martinique', 'Guyane', 'La Réunion',\n",
       "       'Mayotte'], dtype=object)"
      ]
     },
     "execution_count": 164,
     "metadata": {},
     "output_type": "execute_result"
    }
   ],
   "source": [
    "departements_names"
   ]
  },
  {
   "cell_type": "code",
   "execution_count": 129,
   "metadata": {},
   "outputs": [
    {
     "data": {
      "text/plain": [
       "809"
      ]
     },
     "execution_count": 129,
     "metadata": {},
     "output_type": "execute_result"
    }
   ],
   "source": [
    "len(communes_prblm)"
   ]
  },
  {
   "cell_type": "code",
   "execution_count": 114,
   "metadata": {},
   "outputs": [
    {
     "data": {
      "text/plain": [
       "\"concentrations en nitrates d'origine agricole - - eaux souterraines - france entière. Système d'Information sur l'Eau. la directive 91 cee du 12 décembre dite directive nitrates vise protéger la qualité de eau en prévenant la pollution des eaux souterraines et superficielles par les nitrates d’origine agricole notamment en promouvant usage des bonnes pratiques agricoles de gestion de l’azote. ses orientations sont largement reprises dans la directive cadre sur l’eau dce 60 ce du 23 octobre . elle impose aux états membres de : •\\tréaliser des campagnes de surveillance des concentrations en nitrates dans les milieux aquatiques eaux superficielles et souterraines au moins tous les quatre ans •\\tdésigner des zones de protection spécifiques atteintes ou menacées par la pollution par les nitrates d’origine agricole dites zones vulnérables •\\télaborer des programmes d’actions dont les mesures doivent être obligatoirement appliquées par les agriculteurs qui exercent leurs activités en zones vulnérables •\\tétablir des bonnes pratiques agricoles fertilisation azotée gestion des terres mettre en œuvre volontairement par les agriculteurs. en france la mise en œuvre de la directive nitrates débute en avec la première campagne de surveillance : les concentrations en nitrates sont alors mesurées sur environ sites dits stations de mesure localisés dans ou près des zones agricoles. les résultats permettent d’établir la première délimitation des zones vulnérables en . puis quatre autres campagnes se succèdent et . en complément de ces campagnes spécifiques menées au titre de la directive nitrates et afin de mieux suivre l’évolution de la qualité de l’eau vis-à-vis de ce paramètre le ministère en charge de l’environnement office national de eau et des milieux aquatiques onema et l’office international de l’eau oieau réalisent chaque année depuis un document de synthèse sur les résultats des mesures de concentrations en nitrates produites dans le cadre du programme national de la surveillance des milieux aquatiques contrôle de surveillance contrôle opérationnel réseaux complémentaires en application de la dce. les stations de mesure sélectionnées pour étudier l’évolution des concentrations dans les zones soumises des pressions agricoles sont alors celles qui sont communes avec la dernière campagne menée au titre de la directive nitrates . ce jeu de données correspond aux résultats du programme national de surveillance réalisé au titre de la dce des stations sélectionnées lors de la campagne de surveillance nitrates sur la période allant du 01 10 au 30 09 pour les eaux souterraines. organisations partenaires office international de eau agences de eau offices de eau ars deal dreal consulter cette fiche sur datasets . donnees-ouvertes donnees-qualitatives eau-souterraine eaux-souterraines environment etat-du-milieu-qualite-quantite france-entiere passerelle-inspire pollution-de-leau qualite-de-lenvironnement\""
      ]
     },
     "execution_count": 114,
     "metadata": {},
     "output_type": "execute_result"
    }
   ],
   "source": [
    "data_np[3422]"
   ]
  }
 ],
 "metadata": {
  "kernelspec": {
   "display_name": "Python 3",
   "language": "python",
   "name": "python3"
  },
  "language_info": {
   "codemirror_mode": {
    "name": "ipython",
    "version": 3
   },
   "file_extension": ".py",
   "mimetype": "text/x-python",
   "name": "python",
   "nbconvert_exporter": "python",
   "pygments_lexer": "ipython3",
   "version": "3.7.7"
  },
  "toc": {
   "base_numbering": 1,
   "nav_menu": {},
   "number_sections": true,
   "sideBar": true,
   "skip_h1_title": false,
   "title_cell": "Table of Contents",
   "title_sidebar": "Contents",
   "toc_cell": false,
   "toc_position": {},
   "toc_section_display": true,
   "toc_window_display": false
  },
  "varInspector": {
   "cols": {
    "lenName": 16,
    "lenType": 16,
    "lenVar": 40
   },
   "kernels_config": {
    "python": {
     "delete_cmd_postfix": "",
     "delete_cmd_prefix": "del ",
     "library": "var_list.py",
     "varRefreshCmd": "print(var_dic_list())"
    },
    "r": {
     "delete_cmd_postfix": ") ",
     "delete_cmd_prefix": "rm(",
     "library": "var_list.r",
     "varRefreshCmd": "cat(var_dic_list()) "
    }
   },
   "types_to_exclude": [
    "module",
    "function",
    "builtin_function_or_method",
    "instance",
    "_Feature"
   ],
   "window_display": false
  }
 },
 "nbformat": 4,
 "nbformat_minor": 2
}
