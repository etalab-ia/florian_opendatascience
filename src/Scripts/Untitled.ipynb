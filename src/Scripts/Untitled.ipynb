{
 "cells": [
  {
   "cell_type": "code",
   "execution_count": 4,
   "metadata": {},
   "outputs": [],
   "source": [
    "from csv2clean import *\n",
    "\n",
    "data=clean('../../data/Catalogue.csv', 'none')"
   ]
  },
  {
   "cell_type": "code",
   "execution_count": 6,
   "metadata": {},
   "outputs": [
    {
     "data": {
      "text/plain": [
       "'Parcelles engagées en MAEC CAB MAB en Bretagne confirmation d’engagement de la campagne PAC . Région Bretagne. Les exploitants agricoles engagés en Mesure Agro-Environnementale et Climatique MAEC Conversion l Agriculture Biologique CAB ou Maintien en Agriculture Biologique MAB doivent chaque année confirmer leur engagement lors de la campagne PAC annuelle dans le cas d’un engagement pluriannuel. Les CAB MAB et MAEC systèmes sont ouvertes sur l’ensemble de la Bretagne depuis . Les MAEC localisées ont été ouvertes de manière différenciée sur les territoires de PAEC partir de ou . Les confirmations d’engagement de présentées ici correspondent des engagements pris en et . Ces engagements mobilisent les mesures 10 MAEC et 11 Bio du Programme de Développement Rural Régional PDR de la région Bretagne validé par la Commission Européenne en août . Ce programme mobilise le Fonds Européen pour l’Agriculture et le Développement Économique Rural FEADER programmation pour lequel la Région Bretagne est autorité de gestion. Origine La Région Bretagne autorité de gestion du Programme de Développement Rural Régional de Bretagne en concertation avec les porteurs de projets l’ASP et la DRAAF détermine les modalités de mise en œuvre des mesures 10 et 11 du PDR. Ces mesures permettent l’engagement d’exploitants agricoles en MAEC en conversion ou en maintien en agriculture biologique.. Les données présentées ici sont les données instruites par les DDTM. Ces données sont susceptibles d’évoluer au fil de l’instruction. Organisations partenaires Région Bretagne DRAAF Bretagne Consulter cette fiche sur datasets . agriculture agriculture-biologique bretagne donnees-ouvertes farming feader passerelle-inspire politique-agricole-commune usage-des-sols'"
      ]
     },
     "execution_count": 6,
     "metadata": {},
     "output_type": "execute_result"
    }
   ],
   "source": [
    "data[355]"
   ]
  },
  {
   "cell_type": "code",
   "execution_count": 3,
   "metadata": {},
   "outputs": [],
   "source": [
    "from fuzzywuzzy import fuzz\n",
    "import pandas as pd\n",
    "departements=pd.read_csv('../../data/departement2019.csv')\n",
    "communes=pd.read_csv('../../data/communes-01012019.csv')\n",
    "regions=pd.read_csv('../../data/region2019.csv')\n",
    "\n",
    "communes_names=communes['nccenr'].to_numpy()\n",
    "departements_names=departements['nccenr'].to_numpy()\n",
    "regions_names=regions['nccenr'].to_numpy()\n",
    "\n",
    "not_comm_names=list(departements_names)+list(regions_names)\n",
    "###########\n",
    "\n",
    "communes_prblm=[]\n",
    "for i in communes_names:\n",
    "    for j in not_comm_names:\n",
    "        if fuzz.token_set_ratio(i,j)==100:\n",
    "            communes_prblm.append(i)"
   ]
  },
  {
   "cell_type": "code",
   "execution_count": 6,
   "metadata": {},
   "outputs": [],
   "source": [
    "np.save('../../data/communes_prblm',communes_prblm, allow_pickle=True)"
   ]
  },
  {
   "cell_type": "code",
   "execution_count": 19,
   "metadata": {},
   "outputs": [],
   "source": [
    "locs=pd.read_pickle('FOLDER/locs.pkl')"
   ]
  },
  {
   "cell_type": "code",
   "execution_count": 20,
   "metadata": {},
   "outputs": [
    {
     "data": {
      "text/html": [
       "<div>\n",
       "<style scoped>\n",
       "    .dataframe tbody tr th:only-of-type {\n",
       "        vertical-align: middle;\n",
       "    }\n",
       "\n",
       "    .dataframe tbody tr th {\n",
       "        vertical-align: top;\n",
       "    }\n",
       "\n",
       "    .dataframe thead th {\n",
       "        text-align: right;\n",
       "    }\n",
       "</style>\n",
       "<table border=\"1\" class=\"dataframe\">\n",
       "  <thead>\n",
       "    <tr style=\"text-align: right;\">\n",
       "      <th></th>\n",
       "      <th>dep</th>\n",
       "      <th>reg</th>\n",
       "      <th>cheflieu</th>\n",
       "      <th>tncc</th>\n",
       "      <th>ncc</th>\n",
       "      <th>nccenr</th>\n",
       "      <th>libelle</th>\n",
       "      <th>id</th>\n",
       "    </tr>\n",
       "  </thead>\n",
       "  <tbody>\n",
       "    <tr>\n",
       "      <th>93</th>\n",
       "      <td>93</td>\n",
       "      <td>11</td>\n",
       "      <td>93008</td>\n",
       "      <td>3</td>\n",
       "      <td>SEINE SAINT DENIS</td>\n",
       "      <td>Seine-Saint-Denis</td>\n",
       "      <td>Seine-Saint-Denis</td>\n",
       "      <td>5e3b5c2edee7e7777ff5c8ee</td>\n",
       "    </tr>\n",
       "  </tbody>\n",
       "</table>\n",
       "</div>"
      ],
      "text/plain": [
       "   dep  reg cheflieu  tncc                ncc             nccenr  \\\n",
       "93  93   11    93008     3  SEINE SAINT DENIS  Seine-Saint-Denis   \n",
       "\n",
       "              libelle                        id  \n",
       "93  Seine-Saint-Denis  5e3b5c2edee7e7777ff5c8ee  "
      ]
     },
     "execution_count": 20,
     "metadata": {},
     "output_type": "execute_result"
    }
   ],
   "source": [
    "locs"
   ]
  },
  {
   "cell_type": "code",
   "execution_count": null,
   "metadata": {},
   "outputs": [],
   "source": []
  }
 ],
 "metadata": {
  "kernelspec": {
   "display_name": "Python 3",
   "language": "python",
   "name": "python3"
  },
  "language_info": {
   "codemirror_mode": {
    "name": "ipython",
    "version": 3
   },
   "file_extension": ".py",
   "mimetype": "text/x-python",
   "name": "python",
   "nbconvert_exporter": "python",
   "pygments_lexer": "ipython3",
   "version": "3.7.7"
  },
  "toc": {
   "base_numbering": 1,
   "nav_menu": {},
   "number_sections": true,
   "sideBar": true,
   "skip_h1_title": false,
   "title_cell": "Table of Contents",
   "title_sidebar": "Contents",
   "toc_cell": false,
   "toc_position": {},
   "toc_section_display": true,
   "toc_window_display": false
  },
  "varInspector": {
   "cols": {
    "lenName": 16,
    "lenType": 16,
    "lenVar": 40
   },
   "kernels_config": {
    "python": {
     "delete_cmd_postfix": "",
     "delete_cmd_prefix": "del ",
     "library": "var_list.py",
     "varRefreshCmd": "print(var_dic_list())"
    },
    "r": {
     "delete_cmd_postfix": ") ",
     "delete_cmd_prefix": "rm(",
     "library": "var_list.r",
     "varRefreshCmd": "cat(var_dic_list()) "
    }
   },
   "types_to_exclude": [
    "module",
    "function",
    "builtin_function_or_method",
    "instance",
    "_Feature"
   ],
   "window_display": false
  }
 },
 "nbformat": 4,
 "nbformat_minor": 4
}
